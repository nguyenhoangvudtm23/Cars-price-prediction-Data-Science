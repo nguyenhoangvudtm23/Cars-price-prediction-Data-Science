{
 "cells": [
  {
   "cell_type": "code",
   "execution_count": 1,
   "id": "fd9bc36c",
   "metadata": {},
   "outputs": [],
   "source": [
    "import numpy as np\n",
    "import matplotlib.pyplot as plt\n",
    "import pandas as pd\n",
    "import seaborn as sns"
   ]
  },
  {
   "cell_type": "code",
   "execution_count": 2,
   "id": "63118ab0",
   "metadata": {},
   "outputs": [
    {
     "data": {
      "text/plain": [
       "<bound method NDFrame.head of       accelerationTime                bodyType   brand cargoVolume curbWeight  \\\n",
       "0                  6,8      3-doors, hatchback    Audi  270-1020 l    1375 kg   \n",
       "1                  7,8  5-doors, station wagon    Audi  565-1680 l    1745 kg   \n",
       "2                  9,2  5-doors, station wagon   Honda  624-1668 l    1188 kg   \n",
       "3                  9,5  5-doors, station wagon    Audi  565-1680 l    1685 kg   \n",
       "4                  7,0  5-doors, station wagon    Audi  565-1680 l    1680 kg   \n",
       "...                ...                     ...     ...         ...        ...   \n",
       "75990              9,5          4-doors, sedan  Subaru       486 l    1395 kg   \n",
       "75991             11,1          4-doors, sedan  Subaru       486 l    1435 kg   \n",
       "75992             10,3          4-doors, sedan  Subaru       486 l    1452 kg   \n",
       "75993              9,5          4-doors, sedan  Subaru       486 l    1395 kg   \n",
       "75994             11,1          4-doors, sedan  Subaru       486 l    1435 kg   \n",
       "\n",
       "      driveWheelConfiguration eLabel emissionsCO2 engineCapacity fuelCapacity  \\\n",
       "0                  front+rear      g     218 g/km        1781 cc         55 l   \n",
       "1                  front+rear      c     115 g/km        1968 cc         73 l   \n",
       "2                       front      e     146 g/km        1798 cc         50 l   \n",
       "3                       front      b     109 g/km        1968 cc         73 l   \n",
       "4                       front      c     144 g/km        1984 cc         73 l   \n",
       "...                       ...    ...          ...            ...          ...   \n",
       "75990              front+rear      g     198 g/km        1994 cc         64 l   \n",
       "75991              front+rear      g     185 g/km        1994 cc         64 l   \n",
       "75992              front+rear      g     190 g/km        2457 cc         64 l   \n",
       "75993              front+rear      g     198 g/km        1994 cc         64 l   \n",
       "75994              front+rear      g     185 g/km        1994 cc         64 l   \n",
       "\n",
       "       ...                                                url  \\\n",
       "0      ...  http://www.cars-data.com/en/audi-s3-quattro-sp...   \n",
       "1      ...  http://www.cars-data.com/en/audi-a6-avant-40-t...   \n",
       "2      ...  http://www.cars-data.com/en/honda-civic-tourer...   \n",
       "3      ...  http://www.cars-data.com/en/audi-a6-avant-35-t...   \n",
       "4      ...  http://www.cars-data.com/en/audi-a6-avant-45-t...   \n",
       "...    ...                                                ...   \n",
       "75990  ...  http://www.cars-data.com/en/subaru-legacy-2.0i...   \n",
       "75991  ...  http://www.cars-data.com/en/subaru-legacy-2.0i...   \n",
       "75992  ...  http://www.cars-data.com/en/subaru-legacy-2.5i...   \n",
       "75993  ...  http://www.cars-data.com/en/subaru-legacy-2.0i...   \n",
       "75994  ...  http://www.cars-data.com/en/subaru-legacy-2.0i...   \n",
       "\n",
       "      vEengineDisplacement vEenginePower vEengineType vEfuelType  \\\n",
       "0                     1781         154.0  fuel engine   Gasoline   \n",
       "1                     1968         150.0  fuel engine     Diesel   \n",
       "2                     1798         104.0  fuel engine   Gasoline   \n",
       "3                     1968         120.0  fuel engine     Diesel   \n",
       "4                     1984         180.0  fuel engine   Gasoline   \n",
       "...                    ...           ...          ...        ...   \n",
       "75990                 1994         110.0  fuel engine   Gasoline   \n",
       "75991                 1994         110.0  fuel engine   Gasoline   \n",
       "75992                 2457         123.0  fuel engine   Gasoline   \n",
       "75993                 1994         110.0  fuel engine   Gasoline   \n",
       "75994                 1994         110.0  fuel engine   Gasoline   \n",
       "\n",
       "                vehicleTransmission weight  weightTotal  wheelbase width  \n",
       "0               Manual transmission    NaN         1935       2519  1763  \n",
       "1      Automatic with double clutch    NaN         2425       2924  1886  \n",
       "2               Manual transmission    NaN         1790       2595  1770  \n",
       "3      Automatic with double clutch    NaN         2330       2924  1886  \n",
       "4      Automatic with double clutch    NaN         2310       2924  1886  \n",
       "...                             ...    ...          ...        ...   ...  \n",
       "75990           Manual transmission    NaN         2000       2750  1780  \n",
       "75991            traploze automatic    NaN         2020       2750  1780  \n",
       "75992            traploze automatic    NaN         2020       2750  1780  \n",
       "75993           Manual transmission    NaN         2000       2750  1780  \n",
       "75994            traploze automatic    NaN         2020       2750  1780  \n",
       "\n",
       "[75995 rows x 37 columns]>"
      ]
     },
     "execution_count": 2,
     "metadata": {},
     "output_type": "execute_result"
    }
   ],
   "source": [
    "cars_data = pd.read_csv('/home/genkibaskervillge/Documents/cars/data.csv')\n",
    "cars_data.head"
   ]
  },
  {
   "cell_type": "code",
   "execution_count": 3,
   "id": "c8b2a923",
   "metadata": {},
   "outputs": [
    {
     "data": {
      "text/html": [
       "<div>\n",
       "<style scoped>\n",
       "    .dataframe tbody tr th:only-of-type {\n",
       "        vertical-align: middle;\n",
       "    }\n",
       "\n",
       "    .dataframe tbody tr th {\n",
       "        vertical-align: top;\n",
       "    }\n",
       "\n",
       "    .dataframe thead th {\n",
       "        text-align: right;\n",
       "    }\n",
       "</style>\n",
       "<table border=\"1\" class=\"dataframe\">\n",
       "  <thead>\n",
       "    <tr style=\"text-align: right;\">\n",
       "      <th></th>\n",
       "      <th>modelDate</th>\n",
       "      <th>numberOfAxles</th>\n",
       "      <th>numberOfDoors</th>\n",
       "      <th>trailerWeight</th>\n",
       "      <th>vEenginePower</th>\n",
       "      <th>weight</th>\n",
       "    </tr>\n",
       "  </thead>\n",
       "  <tbody>\n",
       "    <tr>\n",
       "      <th>count</th>\n",
       "      <td>75995.000000</td>\n",
       "      <td>75995.0</td>\n",
       "      <td>75995.000000</td>\n",
       "      <td>0.0</td>\n",
       "      <td>75946.000000</td>\n",
       "      <td>0.0</td>\n",
       "    </tr>\n",
       "    <tr>\n",
       "      <th>mean</th>\n",
       "      <td>2004.557063</td>\n",
       "      <td>2.0</td>\n",
       "      <td>4.281742</td>\n",
       "      <td>NaN</td>\n",
       "      <td>108.589919</td>\n",
       "      <td>NaN</td>\n",
       "    </tr>\n",
       "    <tr>\n",
       "      <th>std</th>\n",
       "      <td>9.329384</td>\n",
       "      <td>0.0</td>\n",
       "      <td>0.960881</td>\n",
       "      <td>NaN</td>\n",
       "      <td>54.403769</td>\n",
       "      <td>NaN</td>\n",
       "    </tr>\n",
       "    <tr>\n",
       "      <th>min</th>\n",
       "      <td>1969.000000</td>\n",
       "      <td>2.0</td>\n",
       "      <td>2.000000</td>\n",
       "      <td>NaN</td>\n",
       "      <td>12.000000</td>\n",
       "      <td>NaN</td>\n",
       "    </tr>\n",
       "    <tr>\n",
       "      <th>25%</th>\n",
       "      <td>1999.000000</td>\n",
       "      <td>2.0</td>\n",
       "      <td>4.000000</td>\n",
       "      <td>NaN</td>\n",
       "      <td>75.000000</td>\n",
       "      <td>NaN</td>\n",
       "    </tr>\n",
       "    <tr>\n",
       "      <th>50%</th>\n",
       "      <td>2007.000000</td>\n",
       "      <td>2.0</td>\n",
       "      <td>5.000000</td>\n",
       "      <td>NaN</td>\n",
       "      <td>99.000000</td>\n",
       "      <td>NaN</td>\n",
       "    </tr>\n",
       "    <tr>\n",
       "      <th>75%</th>\n",
       "      <td>2012.000000</td>\n",
       "      <td>2.0</td>\n",
       "      <td>5.000000</td>\n",
       "      <td>NaN</td>\n",
       "      <td>128.000000</td>\n",
       "      <td>NaN</td>\n",
       "    </tr>\n",
       "    <tr>\n",
       "      <th>max</th>\n",
       "      <td>2019.000000</td>\n",
       "      <td>2.0</td>\n",
       "      <td>5.000000</td>\n",
       "      <td>NaN</td>\n",
       "      <td>882.000000</td>\n",
       "      <td>NaN</td>\n",
       "    </tr>\n",
       "  </tbody>\n",
       "</table>\n",
       "</div>"
      ],
      "text/plain": [
       "          modelDate  numberOfAxles  numberOfDoors  trailerWeight  \\\n",
       "count  75995.000000        75995.0   75995.000000            0.0   \n",
       "mean    2004.557063            2.0       4.281742            NaN   \n",
       "std        9.329384            0.0       0.960881            NaN   \n",
       "min     1969.000000            2.0       2.000000            NaN   \n",
       "25%     1999.000000            2.0       4.000000            NaN   \n",
       "50%     2007.000000            2.0       5.000000            NaN   \n",
       "75%     2012.000000            2.0       5.000000            NaN   \n",
       "max     2019.000000            2.0       5.000000            NaN   \n",
       "\n",
       "       vEenginePower  weight  \n",
       "count   75946.000000     0.0  \n",
       "mean      108.589919     NaN  \n",
       "std        54.403769     NaN  \n",
       "min        12.000000     NaN  \n",
       "25%        75.000000     NaN  \n",
       "50%        99.000000     NaN  \n",
       "75%       128.000000     NaN  \n",
       "max       882.000000     NaN  "
      ]
     },
     "execution_count": 3,
     "metadata": {},
     "output_type": "execute_result"
    }
   ],
   "source": [
    "cars_data.describe()"
   ]
  },
  {
   "cell_type": "code",
   "execution_count": 5,
   "id": "d6df7293",
   "metadata": {},
   "outputs": [
    {
     "name": "stdout",
     "output_type": "stream",
     "text": [
      "<class 'pandas.core.frame.DataFrame'>\n",
      "RangeIndex: 75995 entries, 0 to 75994\n",
      "Data columns (total 37 columns):\n",
      " #   Column                   Non-Null Count  Dtype  \n",
      "---  ------                   --------------  -----  \n",
      " 0   accelerationTime         75995 non-null  object \n",
      " 1   bodyType                 75995 non-null  object \n",
      " 2   brand                    75995 non-null  object \n",
      " 3   cargoVolume              75995 non-null  object \n",
      " 4   curbWeight               75995 non-null  object \n",
      " 5   driveWheelConfiguration  75995 non-null  object \n",
      " 6   eLabel                   61841 non-null  object \n",
      " 7   emissionsCO2             75995 non-null  object \n",
      " 8   engineCapacity           75861 non-null  object \n",
      " 9   fuelCapacity             75861 non-null  object \n",
      " 10  fuelConsumption          75861 non-null  object \n",
      " 11  fuelType                 75858 non-null  object \n",
      " 12  height                   75995 non-null  object \n",
      " 13  length                   75995 non-null  object \n",
      " 14  model                    75995 non-null  object \n",
      " 15  modelDate                75995 non-null  int64  \n",
      " 16  name                     75995 non-null  object \n",
      " 17  numberOfAxles            75995 non-null  int64  \n",
      " 18  numberOfDoors            75995 non-null  int64  \n",
      " 19  numberOfForwardGears     75995 non-null  object \n",
      " 20  payload                  75995 non-null  object \n",
      " 21  price                    75995 non-null  object \n",
      " 22  roofLoad                 75995 non-null  object \n",
      " 23  seatingCapacity          75995 non-null  object \n",
      " 24  speed                    75995 non-null  object \n",
      " 25  torque                   75993 non-null  object \n",
      " 26  trailerWeight            0 non-null      float64\n",
      " 27  url                      75995 non-null  object \n",
      " 28  vEengineDisplacement     75861 non-null  object \n",
      " 29  vEenginePower            75946 non-null  float64\n",
      " 30  vEengineType             75995 non-null  object \n",
      " 31  vEfuelType               75858 non-null  object \n",
      " 32  vehicleTransmission      75995 non-null  object \n",
      " 33  weight                   0 non-null      float64\n",
      " 34  weightTotal              75995 non-null  object \n",
      " 35  wheelbase                75994 non-null  object \n",
      " 36  width                    75995 non-null  object \n",
      "dtypes: float64(3), int64(3), object(31)\n",
      "memory usage: 21.5+ MB\n"
     ]
    }
   ],
   "source": [
    "cars_data.info(verbose=True)"
   ]
  },
  {
   "cell_type": "code",
   "execution_count": 7,
   "id": "6b73e686",
   "metadata": {},
   "outputs": [
    {
     "data": {
      "text/plain": [
       "accelerationTime             228\n",
       "bodyType                      32\n",
       "brand                         89\n",
       "cargoVolume                 1845\n",
       "curbWeight                  1600\n",
       "driveWheelConfiguration        3\n",
       "eLabel                         7\n",
       "emissionsCO2                 383\n",
       "engineCapacity               769\n",
       "fuelCapacity                  98\n",
       "fuelConsumption              195\n",
       "fuelType                       9\n",
       "height                       646\n",
       "length                      1230\n",
       "model                       1605\n",
       "modelDate                     51\n",
       "name                       60546\n",
       "numberOfAxles                  1\n",
       "numberOfDoors                  4\n",
       "numberOfForwardGears           9\n",
       "payload                      825\n",
       "price                      26126\n",
       "roofLoad                      39\n",
       "seatingCapacity               22\n",
       "speed                        226\n",
       "torque                       474\n",
       "trailerWeight                  0\n",
       "url                        75995\n",
       "vEengineDisplacement         769\n",
       "vEenginePower                369\n",
       "vEengineType                   4\n",
       "vEfuelType                     9\n",
       "vehicleTransmission            5\n",
       "weight                         0\n",
       "weightTotal                 1004\n",
       "wheelbase                    574\n",
       "width                        425\n",
       "dtype: int64"
      ]
     },
     "execution_count": 7,
     "metadata": {},
     "output_type": "execute_result"
    }
   ],
   "source": [
    "cars_data.nunique()"
   ]
  },
  {
   "cell_type": "code",
   "execution_count": 8,
   "id": "8aacfab4",
   "metadata": {},
   "outputs": [
    {
     "data": {
      "text/html": [
       "<div>\n",
       "<style scoped>\n",
       "    .dataframe tbody tr th:only-of-type {\n",
       "        vertical-align: middle;\n",
       "    }\n",
       "\n",
       "    .dataframe tbody tr th {\n",
       "        vertical-align: top;\n",
       "    }\n",
       "\n",
       "    .dataframe thead th {\n",
       "        text-align: right;\n",
       "    }\n",
       "</style>\n",
       "<table border=\"1\" class=\"dataframe\">\n",
       "  <thead>\n",
       "    <tr style=\"text-align: right;\">\n",
       "      <th></th>\n",
       "      <th>Null count</th>\n",
       "      <th>Null ratio</th>\n",
       "    </tr>\n",
       "  </thead>\n",
       "  <tbody>\n",
       "    <tr>\n",
       "      <th>weight</th>\n",
       "      <td>75995</td>\n",
       "      <td>1.000000</td>\n",
       "    </tr>\n",
       "    <tr>\n",
       "      <th>trailerWeight</th>\n",
       "      <td>75995</td>\n",
       "      <td>1.000000</td>\n",
       "    </tr>\n",
       "    <tr>\n",
       "      <th>eLabel</th>\n",
       "      <td>14154</td>\n",
       "      <td>0.186249</td>\n",
       "    </tr>\n",
       "    <tr>\n",
       "      <th>vEfuelType</th>\n",
       "      <td>137</td>\n",
       "      <td>0.001803</td>\n",
       "    </tr>\n",
       "    <tr>\n",
       "      <th>fuelType</th>\n",
       "      <td>137</td>\n",
       "      <td>0.001803</td>\n",
       "    </tr>\n",
       "    <tr>\n",
       "      <th>fuelConsumption</th>\n",
       "      <td>134</td>\n",
       "      <td>0.001763</td>\n",
       "    </tr>\n",
       "    <tr>\n",
       "      <th>engineCapacity</th>\n",
       "      <td>134</td>\n",
       "      <td>0.001763</td>\n",
       "    </tr>\n",
       "    <tr>\n",
       "      <th>fuelCapacity</th>\n",
       "      <td>134</td>\n",
       "      <td>0.001763</td>\n",
       "    </tr>\n",
       "    <tr>\n",
       "      <th>vEengineDisplacement</th>\n",
       "      <td>134</td>\n",
       "      <td>0.001763</td>\n",
       "    </tr>\n",
       "    <tr>\n",
       "      <th>vEenginePower</th>\n",
       "      <td>49</td>\n",
       "      <td>0.000645</td>\n",
       "    </tr>\n",
       "    <tr>\n",
       "      <th>torque</th>\n",
       "      <td>2</td>\n",
       "      <td>0.000026</td>\n",
       "    </tr>\n",
       "    <tr>\n",
       "      <th>wheelbase</th>\n",
       "      <td>1</td>\n",
       "      <td>0.000013</td>\n",
       "    </tr>\n",
       "    <tr>\n",
       "      <th>url</th>\n",
       "      <td>0</td>\n",
       "      <td>0.000000</td>\n",
       "    </tr>\n",
       "    <tr>\n",
       "      <th>seatingCapacity</th>\n",
       "      <td>0</td>\n",
       "      <td>0.000000</td>\n",
       "    </tr>\n",
       "    <tr>\n",
       "      <th>speed</th>\n",
       "      <td>0</td>\n",
       "      <td>0.000000</td>\n",
       "    </tr>\n",
       "    <tr>\n",
       "      <th>accelerationTime</th>\n",
       "      <td>0</td>\n",
       "      <td>0.000000</td>\n",
       "    </tr>\n",
       "    <tr>\n",
       "      <th>vEengineType</th>\n",
       "      <td>0</td>\n",
       "      <td>0.000000</td>\n",
       "    </tr>\n",
       "    <tr>\n",
       "      <th>price</th>\n",
       "      <td>0</td>\n",
       "      <td>0.000000</td>\n",
       "    </tr>\n",
       "    <tr>\n",
       "      <th>vehicleTransmission</th>\n",
       "      <td>0</td>\n",
       "      <td>0.000000</td>\n",
       "    </tr>\n",
       "    <tr>\n",
       "      <th>weightTotal</th>\n",
       "      <td>0</td>\n",
       "      <td>0.000000</td>\n",
       "    </tr>\n",
       "    <tr>\n",
       "      <th>roofLoad</th>\n",
       "      <td>0</td>\n",
       "      <td>0.000000</td>\n",
       "    </tr>\n",
       "    <tr>\n",
       "      <th>numberOfDoors</th>\n",
       "      <td>0</td>\n",
       "      <td>0.000000</td>\n",
       "    </tr>\n",
       "    <tr>\n",
       "      <th>payload</th>\n",
       "      <td>0</td>\n",
       "      <td>0.000000</td>\n",
       "    </tr>\n",
       "    <tr>\n",
       "      <th>numberOfForwardGears</th>\n",
       "      <td>0</td>\n",
       "      <td>0.000000</td>\n",
       "    </tr>\n",
       "    <tr>\n",
       "      <th>bodyType</th>\n",
       "      <td>0</td>\n",
       "      <td>0.000000</td>\n",
       "    </tr>\n",
       "    <tr>\n",
       "      <th>numberOfAxles</th>\n",
       "      <td>0</td>\n",
       "      <td>0.000000</td>\n",
       "    </tr>\n",
       "    <tr>\n",
       "      <th>name</th>\n",
       "      <td>0</td>\n",
       "      <td>0.000000</td>\n",
       "    </tr>\n",
       "    <tr>\n",
       "      <th>modelDate</th>\n",
       "      <td>0</td>\n",
       "      <td>0.000000</td>\n",
       "    </tr>\n",
       "    <tr>\n",
       "      <th>model</th>\n",
       "      <td>0</td>\n",
       "      <td>0.000000</td>\n",
       "    </tr>\n",
       "    <tr>\n",
       "      <th>length</th>\n",
       "      <td>0</td>\n",
       "      <td>0.000000</td>\n",
       "    </tr>\n",
       "    <tr>\n",
       "      <th>height</th>\n",
       "      <td>0</td>\n",
       "      <td>0.000000</td>\n",
       "    </tr>\n",
       "    <tr>\n",
       "      <th>emissionsCO2</th>\n",
       "      <td>0</td>\n",
       "      <td>0.000000</td>\n",
       "    </tr>\n",
       "    <tr>\n",
       "      <th>driveWheelConfiguration</th>\n",
       "      <td>0</td>\n",
       "      <td>0.000000</td>\n",
       "    </tr>\n",
       "    <tr>\n",
       "      <th>curbWeight</th>\n",
       "      <td>0</td>\n",
       "      <td>0.000000</td>\n",
       "    </tr>\n",
       "    <tr>\n",
       "      <th>cargoVolume</th>\n",
       "      <td>0</td>\n",
       "      <td>0.000000</td>\n",
       "    </tr>\n",
       "    <tr>\n",
       "      <th>brand</th>\n",
       "      <td>0</td>\n",
       "      <td>0.000000</td>\n",
       "    </tr>\n",
       "    <tr>\n",
       "      <th>width</th>\n",
       "      <td>0</td>\n",
       "      <td>0.000000</td>\n",
       "    </tr>\n",
       "  </tbody>\n",
       "</table>\n",
       "</div>"
      ],
      "text/plain": [
       "                         Null count  Null ratio\n",
       "weight                        75995    1.000000\n",
       "trailerWeight                 75995    1.000000\n",
       "eLabel                        14154    0.186249\n",
       "vEfuelType                      137    0.001803\n",
       "fuelType                        137    0.001803\n",
       "fuelConsumption                 134    0.001763\n",
       "engineCapacity                  134    0.001763\n",
       "fuelCapacity                    134    0.001763\n",
       "vEengineDisplacement            134    0.001763\n",
       "vEenginePower                    49    0.000645\n",
       "torque                            2    0.000026\n",
       "wheelbase                         1    0.000013\n",
       "url                               0    0.000000\n",
       "seatingCapacity                   0    0.000000\n",
       "speed                             0    0.000000\n",
       "accelerationTime                  0    0.000000\n",
       "vEengineType                      0    0.000000\n",
       "price                             0    0.000000\n",
       "vehicleTransmission               0    0.000000\n",
       "weightTotal                       0    0.000000\n",
       "roofLoad                          0    0.000000\n",
       "numberOfDoors                     0    0.000000\n",
       "payload                           0    0.000000\n",
       "numberOfForwardGears              0    0.000000\n",
       "bodyType                          0    0.000000\n",
       "numberOfAxles                     0    0.000000\n",
       "name                              0    0.000000\n",
       "modelDate                         0    0.000000\n",
       "model                             0    0.000000\n",
       "length                            0    0.000000\n",
       "height                            0    0.000000\n",
       "emissionsCO2                      0    0.000000\n",
       "driveWheelConfiguration           0    0.000000\n",
       "curbWeight                        0    0.000000\n",
       "cargoVolume                       0    0.000000\n",
       "brand                             0    0.000000\n",
       "width                             0    0.000000"
      ]
     },
     "execution_count": 8,
     "metadata": {},
     "output_type": "execute_result"
    }
   ],
   "source": [
    "# See if there is any null in our data\n",
    "null_info = pd.DataFrame({'Null count': cars_data.isnull().sum(), 'Null ratio': cars_data.isnull().sum()/len(cars_data)})\n",
    "null_info.sort_values(by='Null ratio', ascending=False, inplace=True)\n",
    "null_info"
   ]
  },
  {
   "cell_type": "code",
   "execution_count": 9,
   "id": "4e05aceb",
   "metadata": {},
   "outputs": [
    {
     "data": {
      "image/png": "[encoded data removed]",
      "text/plain": [
       "<Figure size 1800x720 with 2 Axes>"
      ]
     },
     "metadata": {
      "needs_background": "light"
     },
     "output_type": "display_data"
    }
   ],
   "source": [
    "# visualize missing data\n",
    "import missingno as msno\n",
    "\n",
    "msno.matrix(cars_data);"
   ]
  },
  {
   "cell_type": "code",
   "execution_count": 2,
   "id": "6a499336",
   "metadata": {},
   "outputs": [],
   "source": [
    "cars2 = pd.read_csv(\"/home/genkibaskervillge/Documents/cars/cars_final_v2.csv\")"
   ]
  },
  {
   "cell_type": "code",
   "execution_count": 9,
   "id": "b78a049f",
   "metadata": {},
   "outputs": [
    {
     "data": {
      "text/plain": [
       "4628    740\n",
       "4720    671\n",
       "4520    496\n",
       "4703    480\n",
       "4239    434\n",
       "       ... \n",
       "5350      1\n",
       "3888      1\n",
       "3524      1\n",
       "3932      1\n",
       "4019      1\n",
       "Name: length, Length: 1230, dtype: int64"
      ]
     },
     "execution_count": 9,
     "metadata": {},
     "output_type": "execute_result"
    }
   ],
   "source": [
    "cars2['length'].value_counts() # ko co - , ko co Nan"
   ]
  },
  {
   "cell_type": "raw",
   "id": "8062d589",
   "metadata": {},
   "source": []
  },
  {
   "cell_type": "code",
   "execution_count": 8,
   "id": "b8d2292a",
   "metadata": {},
   "outputs": [],
   "source": [
    "cars2['length'] = pd.Series(list(map(lambda x: x.split(\" \")[0], cars2['length'].to_list())))"
   ]
  },
  {
   "cell_type": "code",
   "execution_count": 10,
   "id": "4ea3eb21",
   "metadata": {},
   "outputs": [
    {
     "data": {
      "text/plain": [
       "Index(['accelerationTime', 'bodyType', 'brand', 'cargoVolume', 'curbWeight',\n",
       "       'driveWheelConfiguration', 'eLabel', 'emissionsCO2', 'engineCapacity',\n",
       "       'fuelCapacity', 'fuelConsumption', 'fuelType', 'height', 'length',\n",
       "       'model', 'modelDate', 'numberOfDoors', 'numberOfForwardGears',\n",
       "       'payload', 'price', 'roofLoad', 'seatingCapacity', 'speed', 'torque',\n",
       "       'vEengineDisplacement', 'vEenginePower', 'vEengineType', 'vEfuelType',\n",
       "       'vehicleTransmission', 'weightTotal', 'wheelbase', 'width'],\n",
       "      dtype='object')"
      ]
     },
     "execution_count": 10,
     "metadata": {},
     "output_type": "execute_result"
    }
   ],
   "source": [
    "cars2.columns"
   ]
  },
  {
   "cell_type": "code",
   "execution_count": 32,
   "id": "a0b43c94",
   "metadata": {},
   "outputs": [],
   "source": [
    "cars2.to_csv(\"cars_manh.csv\")"
   ]
  },
  {
   "cell_type": "code",
   "execution_count": 13,
   "id": "e0fac184",
   "metadata": {},
   "outputs": [
    {
     "data": {
      "text/plain": [
       "2013    5015\n",
       "2008    4285\n",
       "2010    3996\n",
       "2011    3736\n",
       "2007    3567\n",
       "2012    3463\n",
       "2005    3385\n",
       "2004    3174\n",
       "2014    2981\n",
       "2015    2876\n",
       "2009    2841\n",
       "2003    2841\n",
       "2002    2285\n",
       "2006    2258\n",
       "2001    2202\n",
       "2017    2091\n",
       "1999    2061\n",
       "2016    2045\n",
       "1998    1983\n",
       "2000    1911\n",
       "1997    1535\n",
       "1996    1457\n",
       "1994    1415\n",
       "1995    1184\n",
       "2018    1015\n",
       "1986     902\n",
       "1985     867\n",
       "1993     867\n",
       "1991     792\n",
       "1989     791\n",
       "1992     756\n",
       "1984     722\n",
       "1988     651\n",
       "1983     593\n",
       "2019     516\n",
       "1982     461\n",
       "1987     458\n",
       "1990     439\n",
       "1981     414\n",
       "1979     348\n",
       "1980     294\n",
       "1977     148\n",
       "1978     140\n",
       "1975      87\n",
       "1976      82\n",
       "1974      30\n",
       "1972      15\n",
       "1971       8\n",
       "1973       7\n",
       "1970       3\n",
       "1969       2\n",
       "Name: modelDate, dtype: int64"
      ]
     },
     "execution_count": 13,
     "metadata": {},
     "output_type": "execute_result"
    }
   ],
   "source": [
    "cars2['modelDate'].value_counts()  # ko co Nan, dang int nen ko them xu li"
   ]
  },
  {
   "cell_type": "code",
   "execution_count": 17,
   "id": "30501414",
   "metadata": {},
   "outputs": [
    {
     "data": {
      "text/plain": [
       "5      30402\n",
       "6      25729\n",
       "4       7924\n",
       "7       5242\n",
       "8       3179\n",
       "NaN     1969\n",
       "9        842\n",
       "3        703\n",
       "0          5\n",
       "Name: numberOfForwardGears, dtype: int64"
      ]
     },
     "execution_count": 17,
     "metadata": {},
     "output_type": "execute_result"
    }
   ],
   "source": [
    "cars2['numberOfForwardGears'].value_counts(dropna=False)  # xuat hien ki tu dac biet 't' thay bang nan"
   ]
  },
  {
   "cell_type": "code",
   "execution_count": 15,
   "id": "c8014e48",
   "metadata": {},
   "outputs": [],
   "source": [
    "cars2['numberOfForwardGears'] = pd.Series(cars2['numberOfForwardGears'].replace(\"t\", np.nan))"
   ]
  },
  {
   "cell_type": "code",
   "execution_count": 23,
   "id": "123c314e",
   "metadata": {},
   "outputs": [
    {
     "data": {
      "text/plain": [
       "75     24759\n",
       "100    21791\n",
       "NaN    11222\n",
       "50      5806\n",
       "80      4967\n",
       "90      1408\n",
       "70      1357\n",
       "60       987\n",
       "0        837\n",
       "65       813\n",
       "150      589\n",
       "200      262\n",
       "68       195\n",
       "85       123\n",
       "55       116\n",
       "40        98\n",
       "300       92\n",
       "35        89\n",
       "30        87\n",
       "45        75\n",
       "78        43\n",
       "72        41\n",
       "210       37\n",
       "25        28\n",
       "140       25\n",
       "170       24\n",
       "103       24\n",
       "37        21\n",
       "20        16\n",
       "57        13\n",
       "280       12\n",
       "34        10\n",
       "74        10\n",
       "48         6\n",
       "120        6\n",
       "454        2\n",
       "81         2\n",
       "550        1\n",
       "475        1\n",
       "Name: roofLoad, dtype: int64"
      ]
     },
     "execution_count": 23,
     "metadata": {},
     "output_type": "execute_result"
    }
   ],
   "source": [
    "cars2['roofLoad'].value_counts(dropna=False)  # xuat hien ki tu dac biet '-'"
   ]
  },
  {
   "cell_type": "code",
   "execution_count": 22,
   "id": "9a45af59",
   "metadata": {},
   "outputs": [],
   "source": [
    "cars2['roofLoad'] = pd.Series(cars2['roofLoad'].replace(\"-\", np.nan))"
   ]
  },
  {
   "cell_type": "code",
   "execution_count": 27,
   "id": "f85e6bc9",
   "metadata": {},
   "outputs": [
    {
     "data": {
      "text/plain": [
       "1598    5659\n",
       "1998    3618\n",
       "1968    2981\n",
       "1995    2526\n",
       "1997    2437\n",
       "        ... \n",
       "3431       1\n",
       "3471       1\n",
       "3746       1\n",
       "4698       1\n",
       "3535       1\n",
       "Name: vEengineDisplacement, Length: 770, dtype: int64"
      ]
     },
     "execution_count": 27,
     "metadata": {},
     "output_type": "execute_result"
    }
   ],
   "source": [
    "cars2['vEengineDisplacement'].value_counts(dropna=False) # dang int, 134 Nan -> ko xu li them"
   ]
  },
  {
   "cell_type": "code",
   "execution_count": 30,
   "id": "7a28a2f0",
   "metadata": {},
   "outputs": [
    {
     "data": {
      "text/plain": [
       "0"
      ]
     },
     "execution_count": 30,
     "metadata": {},
     "output_type": "execute_result"
    }
   ],
   "source": [
    "len(cars2[cars2['vEengineDisplacement'] == \" \"])"
   ]
  },
  {
   "cell_type": "code",
   "execution_count": 31,
   "id": "ed49a107",
   "metadata": {},
   "outputs": [
    {
     "data": {
      "text/plain": [
       "110.0    4748\n",
       "66.0     3237\n",
       "85.0     3090\n",
       "103.0    2740\n",
       "55.0     2323\n",
       "         ... \n",
       "376.0       1\n",
       "465.0       1\n",
       "341.0       1\n",
       "477.0       1\n",
       "352.0       1\n",
       "Name: vEenginePower, Length: 370, dtype: int64"
      ]
     },
     "execution_count": 31,
     "metadata": {},
     "output_type": "execute_result"
    }
   ],
   "source": [
    "cars2['vEenginePower'].value_counts(dropna=False)  # dang int, ko co du lieu thieu"
   ]
  },
  {
   "cell_type": "code",
   "execution_count": null,
   "id": "aae3a845",
   "metadata": {},
   "outputs": [],
   "source": []
  }
 ],
 "metadata": {
  "kernelspec": {
   "display_name": "Python 3 (ipykernel)",
   "language": "python",
   "name": "python3"
  },
  "language_info": {
   "codemirror_mode": {
    "name": "ipython",
    "version": 3
   },
   "file_extension": ".py",
   "mimetype": "text/x-python",
   "name": "python",
   "nbconvert_exporter": "python",
   "pygments_lexer": "ipython3",
   "version": "3.8.10"
  }
 },
 "nbformat": 4,
 "nbformat_minor": 5
}
