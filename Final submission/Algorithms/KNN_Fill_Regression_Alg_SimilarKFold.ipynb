{
 "cells": [
  {
   "cell_type": "code",
   "execution_count": 9,
   "metadata": {
    "collapsed": true
   },
   "outputs": [],
   "source": [
    "import os\n",
    "\n",
    "import pandas as pd\n",
    "import numpy as np\n",
    "from sklearn.preprocessing import LabelEncoder\n",
    "from sklearn.model_selection import train_test_split, GridSearchCV\n",
    "from sklearn.preprocessing import MinMaxScaler, StandardScaler\n",
    "from sklearn.ensemble import ExtraTreesRegressor\n",
    "from lightgbm import LGBMRegressor\n",
    "from xgboost import XGBRegressor\n",
    "from sklearn.ensemble import RandomForestRegressor\n",
    "from sklearn.linear_model import LinearRegression\n",
    "from sklearn.neighbors import KNeighborsRegressor\n",
    "from catboost import CatBoostRegressor\n",
    "from sklearn.metrics import mean_absolute_error, accuracy_score, mean_squared_error, r2_score\n",
    "from sklearn import metrics\n",
    "from sklearn.impute import SimpleImputer, KNNImputer\n",
    "import warnings\n",
    "warnings.filterwarnings('ignore')"
   ]
  },
  {
   "cell_type": "code",
   "execution_count": 10,
   "outputs": [],
   "source": [
    "df = pd.read_csv('fillKNN_data_final_final.csv')\n",
    "df = df.drop(['curbWeight', 'vEengineDisplacement'], axis=1)"
   ],
   "metadata": {
    "collapsed": false,
    "pycharm": {
     "name": "#%%\n"
    }
   }
  },
  {
   "cell_type": "code",
   "execution_count": 11,
   "outputs": [
    {
     "data": {
      "text/plain": "accelerationTime           0\nbodyType                   0\nbrand                      0\ncargoVolume                0\ndriveWheelConfiguration    0\neLabel                     0\nemissionsCO2               0\nengineCapacity             0\nfuelCapacity               0\nfuelConsumption            0\nfuelType                   0\nheight                     0\nlength                     0\nmodelDate                  0\nnumberOfDoors              0\nnumberOfForwardGears       0\npayload                    0\nprice                      0\nroofLoad                   0\nseatingCapacity            0\nspeed                      0\ntorque                     0\nvEenginePower              0\nvEengineType               0\nvehicleTransmission        0\nweightTotal                0\nwheelbase                  0\nwidth                      0\ndtype: int64"
     },
     "execution_count": 11,
     "metadata": {},
     "output_type": "execute_result"
    }
   ],
   "source": [
    "df.isna().sum()"
   ],
   "metadata": {
    "collapsed": false,
    "pycharm": {
     "name": "#%%\n"
    }
   }
  },
  {
   "cell_type": "code",
   "execution_count": 12,
   "outputs": [],
   "source": [
    "# creating X and y variables\n",
    "X = df.drop('price', axis=1)\n",
    "# price column\n",
    "y = np.log(df['price'])"
   ],
   "metadata": {
    "collapsed": false,
    "pycharm": {
     "name": "#%%\n"
    }
   }
  },
  {
   "cell_type": "code",
   "execution_count": 13,
   "outputs": [],
   "source": [
    "linear_train_score = []\n",
    "knn_train_score = []\n",
    "etr_train_score = []\n",
    "lgbm_train_score = []\n",
    "rf_train_score = []\n",
    "xgb_train_score = []\n",
    "cat_train_score = []"
   ],
   "metadata": {
    "collapsed": false,
    "pycharm": {
     "name": "#%%\n"
    }
   }
  },
  {
   "cell_type": "code",
   "execution_count": 14,
   "outputs": [],
   "source": [
    "linear_test_pred = []\n",
    "knn_test_pred = []\n",
    "etr_test_pred = []\n",
    "lgbm_test_pred = []\n",
    "rf_test_pred = []\n",
    "xgb_test_pred = []\n",
    "cat_test_pred = []\n",
    "y_tests = []"
   ],
   "metadata": {
    "collapsed": false,
    "pycharm": {
     "name": "#%%\n"
    }
   }
  },
  {
   "cell_type": "code",
   "execution_count": 16,
   "outputs": [
    {
     "name": "stdout",
     "output_type": "stream",
     "text": [
      "LOOP: 1\n",
      "\n",
      "\n",
      "LOOP: 2\n",
      "\n",
      "\n",
      "LOOP: 3\n",
      "\n",
      "\n",
      "LOOP: 4\n",
      "\n",
      "\n",
      "LOOP: 5\n",
      "\n",
      "\n",
      "LOOP: 6\n",
      "\n",
      "\n",
      "LOOP: 7\n",
      "\n",
      "\n",
      "LOOP: 8\n",
      "\n",
      "\n",
      "LOOP: 9\n",
      "\n",
      "\n",
      "LOOP: 10\n",
      "\n",
      "\n"
     ]
    }
   ],
   "source": [
    "\n",
    "for _ in range(10):\n",
    "    print(f'LOOP: {_+1}\\n\\n')\n",
    "    #train test split\n",
    "    X_train, X_test, y_train, y_test = train_test_split(X, y, test_size=0.3, random_state=8)\n",
    "    # feature scale the X_train and X_test values\n",
    "\n",
    "    norm = StandardScaler().fit(X_train)\n",
    "\n",
    "    # transform training data\n",
    "    X_train = norm.transform(X_train)\n",
    "\n",
    "    # transform testing data\n",
    "    X_test = norm.transform(X_test)\n",
    "\n",
    "    linear = LinearRegression()\n",
    "    linear.fit(X_train, y_train)\n",
    "    knn = KNeighborsRegressor()\n",
    "    knn.fit(X_train, y_train)\n",
    "    etr = ExtraTreesRegressor(random_state = 123 , max_depth = 45  , n_estimators = 400)\n",
    "    etr.fit(X_train,y_train)\n",
    "    lgbm = LGBMRegressor(random_state = 123 ,  num_leaves = 750 , learning_rate = 0.01, max_bin = 1200 , n_estimators = 1000)\n",
    "    lgbm.fit(X_train,y_train)\n",
    "    xgb = XGBRegressor(random_state = 123 , max_depth = 7 , learning_rate = 0.2 , n_estimators = 1500)\n",
    "    xgb.fit(X_train,y_train)\n",
    "    rf = RandomForestRegressor(random_state = 123 , max_depth = 45 , n_estimators = 600)\n",
    "    rf.fit(X_train,y_train)\n",
    "    cat = CatBoostRegressor(random_state = 123  , max_depth = 14 )\n",
    "    cat.fit(X_train,y_train, verbose = False)\n",
    "\n",
    "    linear_train_score.append(linear.score(X_train, y_train))\n",
    "    knn_train_score.append(knn.score(X_train, y_train))\n",
    "    etr_train_score.append(etr.score(X_train, y_train))\n",
    "    lgbm_train_score.append(lgbm.score(X_train, y_train))\n",
    "    xgb_train_score.append(xgb.score(X_train, y_train))\n",
    "    rf_train_score.append(rf.score(X_train, y_train))\n",
    "    cat_train_score.append(cat.score(X_train, y_train))\n",
    "\n",
    "    linear_test_pred.append(np.exp(linear.predict(X_test)))\n",
    "    knn_test_pred.append(np.exp(knn.predict(X_test)))\n",
    "    etr_test_pred.append(np.exp(etr.predict(X_test)))\n",
    "    lgbm_test_pred.append(np.exp(lgbm.predict(X_test)))\n",
    "    xgb_test_pred.append(np.exp(xgb.predict(X_test)))\n",
    "    rf_test_pred.append(np.exp(rf.predict(X_test)))\n",
    "    cat_test_pred.append(np.exp(cat.predict(X_test)))\n",
    "\n",
    "    y_tests.append(np.exp(y_test))\n"
   ],
   "metadata": {
    "collapsed": false,
    "pycharm": {
     "name": "#%%\n"
    }
   }
  },
  {
   "cell_type": "code",
   "execution_count": 19,
   "outputs": [],
   "source": [
    "mae_s = []\n",
    "mse_s = []\n",
    "rmse_s = []\n",
    "r2_score_s = []\n",
    "for linear_pred, knn_pred, etr_pred, lgbm_pred, xgb_pred, rf_pred, cat_pred, y_test in zip(linear_test_pred, knn_test_pred, etr_test_pred, lgbm_test_pred, xgb_test_pred, rf_test_pred, cat_test_pred, y_tests):\n",
    "    mse_s.append([mean_squared_error(y_test, linear_pred), mean_squared_error(y_test, knn_pred), mean_squared_error(y_test, etr_pred),\n",
    "                  mean_squared_error(y_test, lgbm_pred), mean_squared_error(y_test, xgb_pred), mean_squared_error(y_test, rf_pred),\n",
    "                  mean_squared_error(y_test, cat_pred)])\n",
    "    rmse_s.append([np.sqrt(mean_squared_error(y_test, linear_pred)),\n",
    "             np.sqrt(mean_squared_error(y_test, knn_pred)),\n",
    "             np.sqrt(mean_squared_error(y_test, etr_pred)),\n",
    "             np.sqrt(mean_squared_error(y_test, lgbm_pred)),\n",
    "             np.sqrt(mean_squared_error(y_test, xgb_pred)),\n",
    "             np.sqrt(mean_squared_error(y_test, rf_pred)),\n",
    "             np.sqrt(mean_squared_error(y_test, cat_pred))])\n",
    "    mae_s.append([mean_absolute_error(y_test, linear_pred), mean_absolute_error(y_test, knn_pred),\n",
    "            mean_absolute_error(y_test, etr_pred), mean_absolute_error(y_test, lgbm_pred),\n",
    "            mean_absolute_error(y_test, xgb_pred), mean_absolute_error(y_test, rf_pred),\n",
    "            mean_absolute_error(y_test, cat_pred)])\n",
    "    r2_score_s.append([r2_score(y_test, linear_pred), r2_score(y_test, knn_pred),\n",
    "                 r2_score(y_test, etr_pred), r2_score(y_test, lgbm_pred),\n",
    "                 r2_score(y_test, xgb_pred), r2_score(y_test, rf_pred),\n",
    "                 r2_score(y_test, cat_pred)])\n",
    "mae_s = np.swapaxes(np.array(mae_s), 0, 1)\n",
    "mse_s = np.swapaxes(np.array(mse_s), 0, 1)\n",
    "rmse_s = np.swapaxes(np.array(rmse_s), 0, 1)\n",
    "r2_score_s = np.swapaxes(np.array(r2_score_s), 0, 1)"
   ],
   "metadata": {
    "collapsed": false,
    "pycharm": {
     "name": "#%%\n"
    }
   }
  },
  {
   "cell_type": "code",
   "execution_count": 21,
   "outputs": [
    {
     "data": {
      "text/plain": "                   model       mae         mse       rmse  r2_score\n0        LinearRegressor  4.985909  127.931424  11.310677  0.866144\n1    KNeighborsRegressor  2.958373   62.410658   7.900042  0.934699\n2    ExtraTreesRegressor  2.508420   40.376127   6.354221  0.957754\n3          LGBMRegressor  2.303172   36.166327   6.013845  0.962159\n4           XGBRegressor  2.334482   36.669758   6.055556  0.961632\n5  RandomForestRegressor  2.462064   38.316124   6.190002  0.959909\n6      CatBoostRegressor  2.272500   51.727216   7.192164  0.945877",
      "text/html": "<div>\n<style scoped>\n    .dataframe tbody tr th:only-of-type {\n        vertical-align: middle;\n    }\n\n    .dataframe tbody tr th {\n        vertical-align: top;\n    }\n\n    .dataframe thead th {\n        text-align: right;\n    }\n</style>\n<table border=\"1\" class=\"dataframe\">\n  <thead>\n    <tr style=\"text-align: right;\">\n      <th></th>\n      <th>model</th>\n      <th>mae</th>\n      <th>mse</th>\n      <th>rmse</th>\n      <th>r2_score</th>\n    </tr>\n  </thead>\n  <tbody>\n    <tr>\n      <th>0</th>\n      <td>LinearRegressor</td>\n      <td>4.985909</td>\n      <td>127.931424</td>\n      <td>11.310677</td>\n      <td>0.866144</td>\n    </tr>\n    <tr>\n      <th>1</th>\n      <td>KNeighborsRegressor</td>\n      <td>2.958373</td>\n      <td>62.410658</td>\n      <td>7.900042</td>\n      <td>0.934699</td>\n    </tr>\n    <tr>\n      <th>2</th>\n      <td>ExtraTreesRegressor</td>\n      <td>2.508420</td>\n      <td>40.376127</td>\n      <td>6.354221</td>\n      <td>0.957754</td>\n    </tr>\n    <tr>\n      <th>3</th>\n      <td>LGBMRegressor</td>\n      <td>2.303172</td>\n      <td>36.166327</td>\n      <td>6.013845</td>\n      <td>0.962159</td>\n    </tr>\n    <tr>\n      <th>4</th>\n      <td>XGBRegressor</td>\n      <td>2.334482</td>\n      <td>36.669758</td>\n      <td>6.055556</td>\n      <td>0.961632</td>\n    </tr>\n    <tr>\n      <th>5</th>\n      <td>RandomForestRegressor</td>\n      <td>2.462064</td>\n      <td>38.316124</td>\n      <td>6.190002</td>\n      <td>0.959909</td>\n    </tr>\n    <tr>\n      <th>6</th>\n      <td>CatBoostRegressor</td>\n      <td>2.272500</td>\n      <td>51.727216</td>\n      <td>7.192164</td>\n      <td>0.945877</td>\n    </tr>\n  </tbody>\n</table>\n</div>"
     },
     "execution_count": 21,
     "metadata": {},
     "output_type": "execute_result"
    }
   ],
   "source": [
    "# Generalisation\n",
    "best_model = pd.DataFrame({\n",
    "    'model': ['LinearRegressor', 'KNeighborsRegressor', 'ExtraTreesRegressor', 'LGBMRegressor', 'XGBRegressor', 'RandomForestRegressor', 'CatBoostRegressor'],\n",
    "\n",
    "    'mae': np.mean(mae_s, axis=1),\n",
    "\n",
    "    'mse': np.mean(mse_s, axis=1),\n",
    "\n",
    "    'rmse': np.mean(rmse_s, axis=1),\n",
    "    'r2_score': np.mean(r2_score_s, axis=1)\n",
    "})\n",
    "best_model"
   ],
   "metadata": {
    "collapsed": false,
    "pycharm": {
     "name": "#%%\n"
    }
   }
  },
  {
   "cell_type": "code",
   "execution_count": null,
   "outputs": [],
   "source": [],
   "metadata": {
    "collapsed": false,
    "pycharm": {
     "name": "#%%\n"
    }
   }
  }
 ],
 "metadata": {
  "kernelspec": {
   "display_name": "Python 3",
   "language": "python",
   "name": "python3"
  },
  "language_info": {
   "codemirror_mode": {
    "name": "ipython",
    "version": 2
   },
   "file_extension": ".py",
   "mimetype": "text/x-python",
   "name": "python",
   "nbconvert_exporter": "python",
   "pygments_lexer": "ipython2",
   "version": "2.7.6"
  }
 },
 "nbformat": 4,
 "nbformat_minor": 0
}