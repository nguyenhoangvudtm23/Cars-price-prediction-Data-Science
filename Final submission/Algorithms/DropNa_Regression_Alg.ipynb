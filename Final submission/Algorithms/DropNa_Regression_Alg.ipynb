{
 "cells": [
  {
   "cell_type": "code",
   "execution_count": 5,
   "outputs": [
    {
     "data": {
      "text/plain": "   accelerationTime  bodyType  brand  cargoVolume  driveWheelConfiguration  \\\n0               6.8         3      4       1020.0                        1   \n1               7.8         7      4       1680.0                        1   \n2               9.2         7     30       1668.0                        0   \n3               9.5         7      4       1680.0                        0   \n4               7.0         7      4       1680.0                        0   \n\n   eLabel  emissionsCO2  engineCapacity  fuelCapacity  fuelConsumption  ...  \\\n0     6.0         218.0          1781.0          55.0              9.1  ...   \n1     2.0         115.0          1968.0          73.0              5.9  ...   \n2     4.0         146.0          1798.0          50.0              6.2  ...   \n3     1.0         109.0          1968.0          73.0              5.4  ...   \n4     2.0         144.0          1984.0          73.0              7.4  ...   \n\n   roofLoad  seatingCapacity  speed  torque  vEenginePower  vEengineType  \\\n0      75.0              5.0  238.0   270.0          154.0             1   \n1     100.0              5.0  241.0   400.0          150.0             1   \n2      75.0              5.0  210.0   174.0          104.0             1   \n3     100.0              5.0  219.0   370.0          120.0             1   \n4     100.0              5.0  250.0   370.0          180.0             1   \n\n   vehicleTransmission  weightTotal  wheelbase   width  \n0                    2       1935.0     2519.0  1763.0  \n1                    1       2425.0     2924.0  1886.0  \n2                    2       1790.0     2595.0  1770.0  \n3                    1       2330.0     2924.0  1886.0  \n4                    1       2310.0     2924.0  1886.0  \n\n[5 rows x 28 columns]",
      "text/html": "<div>\n<style scoped>\n    .dataframe tbody tr th:only-of-type {\n        vertical-align: middle;\n    }\n\n    .dataframe tbody tr th {\n        vertical-align: top;\n    }\n\n    .dataframe thead th {\n        text-align: right;\n    }\n</style>\n<table border=\"1\" class=\"dataframe\">\n  <thead>\n    <tr style=\"text-align: right;\">\n      <th></th>\n      <th>accelerationTime</th>\n      <th>bodyType</th>\n      <th>brand</th>\n      <th>cargoVolume</th>\n      <th>driveWheelConfiguration</th>\n      <th>eLabel</th>\n      <th>emissionsCO2</th>\n      <th>engineCapacity</th>\n      <th>fuelCapacity</th>\n      <th>fuelConsumption</th>\n      <th>...</th>\n      <th>roofLoad</th>\n      <th>seatingCapacity</th>\n      <th>speed</th>\n      <th>torque</th>\n      <th>vEenginePower</th>\n      <th>vEengineType</th>\n      <th>vehicleTransmission</th>\n      <th>weightTotal</th>\n      <th>wheelbase</th>\n      <th>width</th>\n    </tr>\n  </thead>\n  <tbody>\n    <tr>\n      <th>0</th>\n      <td>6.8</td>\n      <td>3</td>\n      <td>4</td>\n      <td>1020.0</td>\n      <td>1</td>\n      <td>6.0</td>\n      <td>218.0</td>\n      <td>1781.0</td>\n      <td>55.0</td>\n      <td>9.1</td>\n      <td>...</td>\n      <td>75.0</td>\n      <td>5.0</td>\n      <td>238.0</td>\n      <td>270.0</td>\n      <td>154.0</td>\n      <td>1</td>\n      <td>2</td>\n      <td>1935.0</td>\n      <td>2519.0</td>\n      <td>1763.0</td>\n    </tr>\n    <tr>\n      <th>1</th>\n      <td>7.8</td>\n      <td>7</td>\n      <td>4</td>\n      <td>1680.0</td>\n      <td>1</td>\n      <td>2.0</td>\n      <td>115.0</td>\n      <td>1968.0</td>\n      <td>73.0</td>\n      <td>5.9</td>\n      <td>...</td>\n      <td>100.0</td>\n      <td>5.0</td>\n      <td>241.0</td>\n      <td>400.0</td>\n      <td>150.0</td>\n      <td>1</td>\n      <td>1</td>\n      <td>2425.0</td>\n      <td>2924.0</td>\n      <td>1886.0</td>\n    </tr>\n    <tr>\n      <th>2</th>\n      <td>9.2</td>\n      <td>7</td>\n      <td>30</td>\n      <td>1668.0</td>\n      <td>0</td>\n      <td>4.0</td>\n      <td>146.0</td>\n      <td>1798.0</td>\n      <td>50.0</td>\n      <td>6.2</td>\n      <td>...</td>\n      <td>75.0</td>\n      <td>5.0</td>\n      <td>210.0</td>\n      <td>174.0</td>\n      <td>104.0</td>\n      <td>1</td>\n      <td>2</td>\n      <td>1790.0</td>\n      <td>2595.0</td>\n      <td>1770.0</td>\n    </tr>\n    <tr>\n      <th>3</th>\n      <td>9.5</td>\n      <td>7</td>\n      <td>4</td>\n      <td>1680.0</td>\n      <td>0</td>\n      <td>1.0</td>\n      <td>109.0</td>\n      <td>1968.0</td>\n      <td>73.0</td>\n      <td>5.4</td>\n      <td>...</td>\n      <td>100.0</td>\n      <td>5.0</td>\n      <td>219.0</td>\n      <td>370.0</td>\n      <td>120.0</td>\n      <td>1</td>\n      <td>1</td>\n      <td>2330.0</td>\n      <td>2924.0</td>\n      <td>1886.0</td>\n    </tr>\n    <tr>\n      <th>4</th>\n      <td>7.0</td>\n      <td>7</td>\n      <td>4</td>\n      <td>1680.0</td>\n      <td>0</td>\n      <td>2.0</td>\n      <td>144.0</td>\n      <td>1984.0</td>\n      <td>73.0</td>\n      <td>7.4</td>\n      <td>...</td>\n      <td>100.0</td>\n      <td>5.0</td>\n      <td>250.0</td>\n      <td>370.0</td>\n      <td>180.0</td>\n      <td>1</td>\n      <td>1</td>\n      <td>2310.0</td>\n      <td>2924.0</td>\n      <td>1886.0</td>\n    </tr>\n  </tbody>\n</table>\n<p>5 rows × 28 columns</p>\n</div>"
     },
     "execution_count": 5,
     "metadata": {},
     "output_type": "execute_result"
    }
   ],
   "source": [
    "df = pd.read_csv('convert_number_data_final.csv')\n",
    "df = df.dropna()\n",
    "df = df.drop(['curbWeight', 'vEengineDisplacement'], axis=1)\n",
    "df.head()"
   ],
   "metadata": {
    "collapsed": false,
    "pycharm": {
     "name": "#%%\n"
    }
   }
  },
  {
   "cell_type": "code",
   "execution_count": 6,
   "outputs": [
    {
     "data": {
      "text/plain": "accelerationTime           0\nbodyType                   0\nbrand                      0\ncargoVolume                0\ndriveWheelConfiguration    0\neLabel                     0\nemissionsCO2               0\nengineCapacity             0\nfuelCapacity               0\nfuelConsumption            0\nfuelType                   0\nheight                     0\nlength                     0\nmodelDate                  0\nnumberOfDoors              0\nnumberOfForwardGears       0\npayload                    0\nprice                      0\nroofLoad                   0\nseatingCapacity            0\nspeed                      0\ntorque                     0\nvEenginePower              0\nvEengineType               0\nvehicleTransmission        0\nweightTotal                0\nwheelbase                  0\nwidth                      0\ndtype: int64"
     },
     "execution_count": 6,
     "metadata": {},
     "output_type": "execute_result"
    }
   ],
   "source": [
    "df.isna().sum()"
   ],
   "metadata": {
    "collapsed": false,
    "pycharm": {
     "name": "#%%\n"
    }
   }
  },
  {
   "cell_type": "code",
   "execution_count": 7,
   "outputs": [],
   "source": [
    "# creating X and y variables\n",
    "X = df.drop('price', axis=1)\n",
    "# price column\n",
    "y = np.log(df['price'])\n",
    "# y = df['price']"
   ],
   "metadata": {
    "collapsed": false,
    "pycharm": {
     "name": "#%%\n"
    }
   }
  },
  {
   "cell_type": "code",
   "execution_count": 8,
   "outputs": [],
   "source": [
    "#train test split\n",
    "X_train, X_test, y_train, y_test = train_test_split(X, y, test_size=0.3, random_state=8)"
   ],
   "metadata": {
    "collapsed": false,
    "pycharm": {
     "name": "#%%\n"
    }
   }
  },
  {
   "cell_type": "code",
   "execution_count": 9,
   "outputs": [
    {
     "name": "stdout",
     "output_type": "stream",
     "text": [
      "[[ 0.75329485 -0.9186881   1.26338027 ... -0.08238968 -0.20038435\n",
      "   0.24637918]\n",
      " [ 0.33255113 -0.9186881   0.52592064 ... -2.31729899 -2.13152926\n",
      "  -2.35635793]\n",
      " [-0.66193402  0.50404897  1.26338027 ...  0.70455022  0.99238162\n",
      "   1.05364524]\n",
      " ...\n",
      " [ 0.67679599  0.50404897  0.52592064 ...  0.0907371   0.87878486\n",
      "   0.95621658]\n",
      " [-1.08267773 -0.9186881   0.82760867 ... -0.46012083  0.01418731\n",
      "   0.41339975]\n",
      " [ 1.51828342  1.45254035  0.99521313 ... -1.75070226 -2.69951306\n",
      "  -2.56513364]]\n",
      "\n",
      "\n",
      "[[ 1.09753971 -0.9186881  -0.37914345 ... -0.7119416  -0.17514063\n",
      "   0.07935862]\n",
      " [-0.89143059  0.50404897 -0.47970613 ...  0.49994585  0.99238162\n",
      "   0.91446144]\n",
      " [-0.54718573  0.50404897 -0.47970613 ...  0.67307263  1.78124801\n",
      "   1.33201285]\n",
      " ...\n",
      " [ 0.52379828  1.45254035 -0.37914345 ... -0.14534487  0.14040593\n",
      "   0.28813432]\n",
      " [-0.73843287 -0.9186881   1.22985938 ... -0.55455362 -0.25718273\n",
      "   0.20462404]\n",
      " [ 0.33255113 -0.9186881   0.45887886 ... -1.73496346 -1.48150336\n",
      "  -2.4537866 ]]\n"
     ]
    }
   ],
   "source": [
    "# feature scale the X_train and X_test values\n",
    "\n",
    "norm = StandardScaler().fit(X_train)\n",
    "\n",
    "# transform training data\n",
    "X_train = norm.transform(X_train)\n",
    "\n",
    "# transform testing data\n",
    "X_test = norm.transform(X_test)\n",
    "\n",
    "print(X_train)\n",
    "print('\\n')\n",
    "print(X_test)"
   ],
   "metadata": {
    "collapsed": false,
    "pycharm": {
     "name": "#%%\n"
    }
   }
  },
  {
   "cell_type": "code",
   "execution_count": 10,
   "outputs": [
    {
     "data": {
      "text/plain": "LinearRegression()"
     },
     "execution_count": 10,
     "metadata": {},
     "output_type": "execute_result"
    }
   ],
   "source": [
    "# Fitting linear regression\n",
    "linear = LinearRegression()\n",
    "linear.fit(X_train, y_train)"
   ],
   "metadata": {
    "collapsed": false,
    "pycharm": {
     "name": "#%%\n"
    }
   }
  },
  {
   "cell_type": "code",
   "execution_count": 11,
   "outputs": [
    {
     "data": {
      "text/plain": "KNeighborsRegressor()"
     },
     "execution_count": 11,
     "metadata": {},
     "output_type": "execute_result"
    }
   ],
   "source": [
    "# fitting knn\n",
    "knn = KNeighborsRegressor()\n",
    "knn.fit(X_train, y_train)"
   ],
   "metadata": {
    "collapsed": false,
    "pycharm": {
     "name": "#%%\n"
    }
   }
  },
  {
   "cell_type": "code",
   "execution_count": 12,
   "outputs": [
    {
     "data": {
      "text/plain": "ExtraTreesRegressor(max_depth=45, n_estimators=400, random_state=123)"
     },
     "execution_count": 12,
     "metadata": {},
     "output_type": "execute_result"
    }
   ],
   "source": [
    "# Fitting extra trees regressor\n",
    "\n",
    "etr = ExtraTreesRegressor(random_state = 123 , max_depth = 45  , n_estimators = 400)\n",
    "etr.fit(X_train,y_train)"
   ],
   "metadata": {
    "collapsed": false,
    "pycharm": {
     "name": "#%%\n"
    }
   }
  },
  {
   "cell_type": "code",
   "execution_count": 13,
   "outputs": [
    {
     "data": {
      "text/plain": "LGBMRegressor(learning_rate=0.01, max_bin=1200, n_estimators=1000,\n              num_leaves=750, random_state=123)"
     },
     "execution_count": 13,
     "metadata": {},
     "output_type": "execute_result"
    }
   ],
   "source": [
    "#Fitting light gbm model on the train data\n",
    "\n",
    "lgbm = LGBMRegressor(random_state = 123 ,  num_leaves = 750 , learning_rate = 0.01, max_bin = 1200 , n_estimators = 1000)\n",
    "lgbm.fit(X_train,y_train)"
   ],
   "metadata": {
    "collapsed": false,
    "pycharm": {
     "name": "#%%\n"
    }
   }
  },
  {
   "cell_type": "code",
   "execution_count": 14,
   "outputs": [
    {
     "data": {
      "text/plain": "XGBRegressor(base_score=0.5, booster='gbtree', colsample_bylevel=1,\n             colsample_bynode=1, colsample_bytree=1, enable_categorical=False,\n             gamma=0, gpu_id=-1, importance_type=None,\n             interaction_constraints='', learning_rate=0.2, max_delta_step=0,\n             max_depth=7, min_child_weight=1, missing=nan,\n             monotone_constraints='()', n_estimators=1500, n_jobs=6,\n             num_parallel_tree=1, predictor='auto', random_state=123,\n             reg_alpha=0, reg_lambda=1, scale_pos_weight=1, subsample=1,\n             tree_method='exact', validate_parameters=1, verbosity=None)"
     },
     "execution_count": 14,
     "metadata": {},
     "output_type": "execute_result"
    }
   ],
   "source": [
    "#Fitting xgboost regressor model on the train data\n",
    "\n",
    "xgb = XGBRegressor(random_state = 123 , max_depth = 7 , learning_rate = 0.2 , n_estimators = 1500)\n",
    "xgb.fit(X_train,y_train)"
   ],
   "metadata": {
    "collapsed": false,
    "pycharm": {
     "name": "#%%\n"
    }
   }
  },
  {
   "cell_type": "code",
   "execution_count": 15,
   "outputs": [
    {
     "data": {
      "text/plain": "RandomForestRegressor(max_depth=45, n_estimators=600, random_state=123)"
     },
     "execution_count": 15,
     "metadata": {},
     "output_type": "execute_result"
    }
   ],
   "source": [
    "#Fitting random forest regressor model on the train data\n",
    "\n",
    "rf = RandomForestRegressor(random_state = 123 , max_depth = 45 , n_estimators = 600)\n",
    "rf.fit(X_train,y_train)"
   ],
   "metadata": {
    "collapsed": false,
    "pycharm": {
     "name": "#%%\n"
    }
   }
  },
  {
   "cell_type": "code",
   "execution_count": 16,
   "outputs": [
    {
     "data": {
      "text/plain": "<catboost.core.CatBoostRegressor at 0x1dea3232e80>"
     },
     "execution_count": 16,
     "metadata": {},
     "output_type": "execute_result"
    }
   ],
   "source": [
    "#Fitting catboost regressor model on the train data\n",
    "\n",
    "cat = CatBoostRegressor(random_state = 123  , max_depth = 14 )\n",
    "cat.fit(X_train,y_train, verbose = False)"
   ],
   "metadata": {
    "collapsed": false,
    "pycharm": {
     "name": "#%%\n"
    }
   }
  },
  {
   "cell_type": "code",
   "execution_count": 17,
   "outputs": [
    {
     "data": {
      "text/plain": "                   model     score\n0        LinearRegressor  0.932267\n1    KNeighborsRegressor  0.982482\n2    ExtraTreesRegressor  0.992402\n3          LGBMRegressor  0.991274\n4           XGBRegressor  0.992323\n5  RandomForestRegressor  0.991600\n6      CatBoostRegressor  0.991241",
      "text/html": "<div>\n<style scoped>\n    .dataframe tbody tr th:only-of-type {\n        vertical-align: middle;\n    }\n\n    .dataframe tbody tr th {\n        vertical-align: top;\n    }\n\n    .dataframe thead th {\n        text-align: right;\n    }\n</style>\n<table border=\"1\" class=\"dataframe\">\n  <thead>\n    <tr style=\"text-align: right;\">\n      <th></th>\n      <th>model</th>\n      <th>score</th>\n    </tr>\n  </thead>\n  <tbody>\n    <tr>\n      <th>0</th>\n      <td>LinearRegressor</td>\n      <td>0.932267</td>\n    </tr>\n    <tr>\n      <th>1</th>\n      <td>KNeighborsRegressor</td>\n      <td>0.982482</td>\n    </tr>\n    <tr>\n      <th>2</th>\n      <td>ExtraTreesRegressor</td>\n      <td>0.992402</td>\n    </tr>\n    <tr>\n      <th>3</th>\n      <td>LGBMRegressor</td>\n      <td>0.991274</td>\n    </tr>\n    <tr>\n      <th>4</th>\n      <td>XGBRegressor</td>\n      <td>0.992323</td>\n    </tr>\n    <tr>\n      <th>5</th>\n      <td>RandomForestRegressor</td>\n      <td>0.991600</td>\n    </tr>\n    <tr>\n      <th>6</th>\n      <td>CatBoostRegressor</td>\n      <td>0.991241</td>\n    </tr>\n  </tbody>\n</table>\n</div>"
     },
     "execution_count": 17,
     "metadata": {},
     "output_type": "execute_result"
    }
   ],
   "source": [
    "train_score = pd.DataFrame({\n",
    "    'model': ['LinearRegressor', 'KNeighborsRegressor', 'ExtraTreesRegressor', 'LGBMRegressor', 'XGBRegressor', 'RandomForestRegressor', 'CatBoostRegressor'],\n",
    "\n",
    "    'score': [linear.score(X_train, y_train), knn.score(X_train, y_train), etr.score(X_train, y_train),\n",
    "              lgbm.score(X_train, y_train), xgb.score(X_train, y_train) , rf.score(X_train, y_train),\n",
    "              cat.score(X_train, y_train)]\n",
    "    })\n",
    "train_score"
   ],
   "metadata": {
    "collapsed": false,
    "pycharm": {
     "name": "#%%\n"
    }
   }
  },
  {
   "cell_type": "code",
   "execution_count": 18,
   "outputs": [],
   "source": [
    "linear_pred = np.exp(linear.predict(X_test))\n",
    "knn_pred = np.exp(knn.predict(X_test))\n",
    "etr_pred = np.exp(etr.predict(X_test))\n",
    "lgbm_pred = np.exp(lgbm.predict(X_test))\n",
    "xgb_pred = np.exp(xgb.predict(X_test))\n",
    "rf_pred = np.exp(rf.predict(X_test))\n",
    "cat_pred = np.exp(cat.predict(X_test))\n",
    "\n",
    "y_test = np.exp(y_test)"
   ],
   "metadata": {
    "collapsed": false,
    "pycharm": {
     "name": "#%%\n"
    }
   }
  },
  {
   "cell_type": "code",
   "execution_count": 19,
   "outputs": [
    {
     "data": {
      "text/plain": "                   model       mae        mse      rmse  r2_score\n0        LinearRegressor  4.495298  64.610812  8.038085  0.900795\n1    KNeighborsRegressor  2.744627  25.248597  5.024798  0.961233\n2    ExtraTreesRegressor  2.441033  15.904999  3.988107  0.975579\n3          LGBMRegressor  2.241539  13.805744  3.715608  0.978802\n4           XGBRegressor  2.329259  14.555284  3.815139  0.977651\n5  RandomForestRegressor  2.356414  15.404498  3.924856  0.976347\n6      CatBoostRegressor  2.229085  16.596080  4.073829  0.974518",
      "text/html": "<div>\n<style scoped>\n    .dataframe tbody tr th:only-of-type {\n        vertical-align: middle;\n    }\n\n    .dataframe tbody tr th {\n        vertical-align: top;\n    }\n\n    .dataframe thead th {\n        text-align: right;\n    }\n</style>\n<table border=\"1\" class=\"dataframe\">\n  <thead>\n    <tr style=\"text-align: right;\">\n      <th></th>\n      <th>model</th>\n      <th>mae</th>\n      <th>mse</th>\n      <th>rmse</th>\n      <th>r2_score</th>\n    </tr>\n  </thead>\n  <tbody>\n    <tr>\n      <th>0</th>\n      <td>LinearRegressor</td>\n      <td>4.495298</td>\n      <td>64.610812</td>\n      <td>8.038085</td>\n      <td>0.900795</td>\n    </tr>\n    <tr>\n      <th>1</th>\n      <td>KNeighborsRegressor</td>\n      <td>2.744627</td>\n      <td>25.248597</td>\n      <td>5.024798</td>\n      <td>0.961233</td>\n    </tr>\n    <tr>\n      <th>2</th>\n      <td>ExtraTreesRegressor</td>\n      <td>2.441033</td>\n      <td>15.904999</td>\n      <td>3.988107</td>\n      <td>0.975579</td>\n    </tr>\n    <tr>\n      <th>3</th>\n      <td>LGBMRegressor</td>\n      <td>2.241539</td>\n      <td>13.805744</td>\n      <td>3.715608</td>\n      <td>0.978802</td>\n    </tr>\n    <tr>\n      <th>4</th>\n      <td>XGBRegressor</td>\n      <td>2.329259</td>\n      <td>14.555284</td>\n      <td>3.815139</td>\n      <td>0.977651</td>\n    </tr>\n    <tr>\n      <th>5</th>\n      <td>RandomForestRegressor</td>\n      <td>2.356414</td>\n      <td>15.404498</td>\n      <td>3.924856</td>\n      <td>0.976347</td>\n    </tr>\n    <tr>\n      <th>6</th>\n      <td>CatBoostRegressor</td>\n      <td>2.229085</td>\n      <td>16.596080</td>\n      <td>4.073829</td>\n      <td>0.974518</td>\n    </tr>\n  </tbody>\n</table>\n</div>"
     },
     "execution_count": 19,
     "metadata": {},
     "output_type": "execute_result"
    }
   ],
   "source": [
    "# Generalisation\n",
    "best_model = pd.DataFrame({\n",
    "    'model': ['LinearRegressor', 'KNeighborsRegressor', 'ExtraTreesRegressor', 'LGBMRegressor', 'XGBRegressor', 'RandomForestRegressor', 'CatBoostRegressor'],\n",
    "\n",
    "    'mae': [mean_absolute_error(y_test, linear_pred), mean_absolute_error(y_test, knn_pred),\n",
    "            mean_absolute_error(y_test, etr_pred), mean_absolute_error(y_test, lgbm_pred),\n",
    "            mean_absolute_error(y_test, xgb_pred), mean_absolute_error(y_test, rf_pred),\n",
    "            mean_absolute_error(y_test, cat_pred)],\n",
    "\n",
    "    'mse': [mean_squared_error(y_test, linear_pred), mean_squared_error(y_test, knn_pred),\n",
    "            mean_squared_error(y_test, etr_pred), mean_squared_error(y_test, lgbm_pred),\n",
    "            mean_squared_error(y_test, xgb_pred), mean_squared_error(y_test, rf_pred),\n",
    "            mean_squared_error(y_test, cat_pred)],\n",
    "\n",
    "    'rmse': [np.sqrt(mean_squared_error(y_test, linear_pred)),\n",
    "             np.sqrt(mean_squared_error(y_test, knn_pred)),\n",
    "             np.sqrt(mean_squared_error(y_test, etr_pred)),\n",
    "             np.sqrt(mean_squared_error(y_test, lgbm_pred)),\n",
    "             np.sqrt(mean_squared_error(y_test, xgb_pred)),\n",
    "             np.sqrt(mean_squared_error(y_test, rf_pred)),\n",
    "             np.sqrt(mean_squared_error(y_test, cat_pred))],\n",
    "    'r2_score': [r2_score(y_test, linear_pred), r2_score(y_test, knn_pred),\n",
    "                 r2_score(y_test, etr_pred), r2_score(y_test, lgbm_pred),\n",
    "                 r2_score(y_test, xgb_pred), r2_score(y_test, rf_pred),\n",
    "                 r2_score(y_test, cat_pred)]\n",
    "})\n",
    "best_model"
   ],
   "metadata": {
    "collapsed": false,
    "pycharm": {
     "name": "#%%\n"
    }
   }
  },
  {
   "cell_type": "code",
   "execution_count": 20,
   "outputs": [
    {
     "name": "stdout",
     "output_type": "stream",
     "text": [
      "Real price:    18.195\n",
      "Predict price: 17.131930015002737\n",
      "\n",
      "\n",
      "Real price:    40.91\n",
      "Predict price: 45.04360395502026\n",
      "\n",
      "\n",
      "Real price:    57.415\n",
      "Predict price: 61.904739035946704\n",
      "\n",
      "\n",
      "Real price:    26.981\n",
      "Predict price: 26.964398075968006\n",
      "\n",
      "\n",
      "Real price:    25.384999999999998\n",
      "Predict price: 25.870458808314606\n",
      "\n",
      "\n"
     ]
    }
   ],
   "source": [
    "# cat boost regressor\n",
    "for i in range(5):\n",
    "    y = list(y_test)[i]\n",
    "    y_pre = list(cat_pred)[i]\n",
    "    print(f'Real price:    {y}')\n",
    "    print(f'Predict price: {y_pre}\\n\\n')"
   ],
   "metadata": {
    "collapsed": false,
    "pycharm": {
     "name": "#%%\n"
    }
   }
  },
  {
   "cell_type": "code",
   "execution_count": null,
   "outputs": [],
   "source": [],
   "metadata": {
    "collapsed": false,
    "pycharm": {
     "name": "#%%\n"
    }
   }
  }
 ],
 "metadata": {
  "kernelspec": {
   "display_name": "Python 3",
   "language": "python",
   "name": "python3"
  },
  "language_info": {
   "codemirror_mode": {
    "name": "ipython",
    "version": 2
   },
   "file_extension": ".py",
   "mimetype": "text/x-python",
   "name": "python",
   "nbconvert_exporter": "python",
   "pygments_lexer": "ipython2",
   "version": "2.7.6"
  }
 },
 "nbformat": 4,
 "nbformat_minor": 0
}