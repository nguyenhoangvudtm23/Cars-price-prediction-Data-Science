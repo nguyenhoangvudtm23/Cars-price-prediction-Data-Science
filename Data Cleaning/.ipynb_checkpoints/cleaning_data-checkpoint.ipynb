{
 "cells": [
  {
   "cell_type": "code",
   "execution_count": 117,
   "metadata": {
    "collapsed": true
   },
   "outputs": [],
   "source": [
    "import pandas as pd\n",
    "import numpy as np\n",
    "import re"
   ]
  },
  {
   "cell_type": "code",
   "execution_count": 118,
   "metadata": {
    "pycharm": {
     "name": "#%%\n"
    }
   },
   "outputs": [
    {
     "data": {
      "text/html": [
       "<div>\n",
       "<style scoped>\n",
       "    .dataframe tbody tr th:only-of-type {\n",
       "        vertical-align: middle;\n",
       "    }\n",
       "\n",
       "    .dataframe tbody tr th {\n",
       "        vertical-align: top;\n",
       "    }\n",
       "\n",
       "    .dataframe thead th {\n",
       "        text-align: right;\n",
       "    }\n",
       "</style>\n",
       "<table border=\"1\" class=\"dataframe\">\n",
       "  <thead>\n",
       "    <tr style=\"text-align: right;\">\n",
       "      <th></th>\n",
       "      <th>accelerationTime</th>\n",
       "      <th>bodyType</th>\n",
       "      <th>brand</th>\n",
       "      <th>cargoVolume</th>\n",
       "      <th>curbWeight</th>\n",
       "      <th>driveWheelConfiguration</th>\n",
       "      <th>eLabel</th>\n",
       "      <th>emissionsCO2</th>\n",
       "      <th>engineCapacity</th>\n",
       "      <th>fuelCapacity</th>\n",
       "      <th>...</th>\n",
       "      <th>url</th>\n",
       "      <th>vEengineDisplacement</th>\n",
       "      <th>vEenginePower</th>\n",
       "      <th>vEengineType</th>\n",
       "      <th>vEfuelType</th>\n",
       "      <th>vehicleTransmission</th>\n",
       "      <th>weight</th>\n",
       "      <th>weightTotal</th>\n",
       "      <th>wheelbase</th>\n",
       "      <th>width</th>\n",
       "    </tr>\n",
       "  </thead>\n",
       "  <tbody>\n",
       "    <tr>\n",
       "      <th>0</th>\n",
       "      <td>6,8</td>\n",
       "      <td>3-doors, hatchback</td>\n",
       "      <td>Audi</td>\n",
       "      <td>270-1020 l</td>\n",
       "      <td>1375 kg</td>\n",
       "      <td>front+rear</td>\n",
       "      <td>g</td>\n",
       "      <td>218 g/km</td>\n",
       "      <td>1781 cc</td>\n",
       "      <td>55 l</td>\n",
       "      <td>...</td>\n",
       "      <td>http://www.cars-data.com/en/audi-s3-quattro-sp...</td>\n",
       "      <td>1781</td>\n",
       "      <td>154.0</td>\n",
       "      <td>fuel engine</td>\n",
       "      <td>Gasoline</td>\n",
       "      <td>Manual transmission</td>\n",
       "      <td>NaN</td>\n",
       "      <td>1935</td>\n",
       "      <td>2519</td>\n",
       "      <td>1763</td>\n",
       "    </tr>\n",
       "    <tr>\n",
       "      <th>1</th>\n",
       "      <td>7,8</td>\n",
       "      <td>5-doors, station wagon</td>\n",
       "      <td>Audi</td>\n",
       "      <td>565-1680 l</td>\n",
       "      <td>1745 kg</td>\n",
       "      <td>front+rear</td>\n",
       "      <td>c</td>\n",
       "      <td>115 g/km</td>\n",
       "      <td>1968 cc</td>\n",
       "      <td>73 l</td>\n",
       "      <td>...</td>\n",
       "      <td>http://www.cars-data.com/en/audi-a6-avant-40-t...</td>\n",
       "      <td>1968</td>\n",
       "      <td>150.0</td>\n",
       "      <td>fuel engine</td>\n",
       "      <td>Diesel</td>\n",
       "      <td>Automatic with double clutch</td>\n",
       "      <td>NaN</td>\n",
       "      <td>2425</td>\n",
       "      <td>2924</td>\n",
       "      <td>1886</td>\n",
       "    </tr>\n",
       "    <tr>\n",
       "      <th>2</th>\n",
       "      <td>9,2</td>\n",
       "      <td>5-doors, station wagon</td>\n",
       "      <td>Honda</td>\n",
       "      <td>624-1668 l</td>\n",
       "      <td>1188 kg</td>\n",
       "      <td>front</td>\n",
       "      <td>e</td>\n",
       "      <td>146 g/km</td>\n",
       "      <td>1798 cc</td>\n",
       "      <td>50 l</td>\n",
       "      <td>...</td>\n",
       "      <td>http://www.cars-data.com/en/honda-civic-tourer...</td>\n",
       "      <td>1798</td>\n",
       "      <td>104.0</td>\n",
       "      <td>fuel engine</td>\n",
       "      <td>Gasoline</td>\n",
       "      <td>Manual transmission</td>\n",
       "      <td>NaN</td>\n",
       "      <td>1790</td>\n",
       "      <td>2595</td>\n",
       "      <td>1770</td>\n",
       "    </tr>\n",
       "    <tr>\n",
       "      <th>3</th>\n",
       "      <td>9,5</td>\n",
       "      <td>5-doors, station wagon</td>\n",
       "      <td>Audi</td>\n",
       "      <td>565-1680 l</td>\n",
       "      <td>1685 kg</td>\n",
       "      <td>front</td>\n",
       "      <td>b</td>\n",
       "      <td>109 g/km</td>\n",
       "      <td>1968 cc</td>\n",
       "      <td>73 l</td>\n",
       "      <td>...</td>\n",
       "      <td>http://www.cars-data.com/en/audi-a6-avant-35-t...</td>\n",
       "      <td>1968</td>\n",
       "      <td>120.0</td>\n",
       "      <td>fuel engine</td>\n",
       "      <td>Diesel</td>\n",
       "      <td>Automatic with double clutch</td>\n",
       "      <td>NaN</td>\n",
       "      <td>2330</td>\n",
       "      <td>2924</td>\n",
       "      <td>1886</td>\n",
       "    </tr>\n",
       "    <tr>\n",
       "      <th>4</th>\n",
       "      <td>7,0</td>\n",
       "      <td>5-doors, station wagon</td>\n",
       "      <td>Audi</td>\n",
       "      <td>565-1680 l</td>\n",
       "      <td>1680 kg</td>\n",
       "      <td>front</td>\n",
       "      <td>c</td>\n",
       "      <td>144 g/km</td>\n",
       "      <td>1984 cc</td>\n",
       "      <td>73 l</td>\n",
       "      <td>...</td>\n",
       "      <td>http://www.cars-data.com/en/audi-a6-avant-45-t...</td>\n",
       "      <td>1984</td>\n",
       "      <td>180.0</td>\n",
       "      <td>fuel engine</td>\n",
       "      <td>Gasoline</td>\n",
       "      <td>Automatic with double clutch</td>\n",
       "      <td>NaN</td>\n",
       "      <td>2310</td>\n",
       "      <td>2924</td>\n",
       "      <td>1886</td>\n",
       "    </tr>\n",
       "  </tbody>\n",
       "</table>\n",
       "<p>5 rows × 37 columns</p>\n",
       "</div>"
      ],
      "text/plain": [
       "  accelerationTime                bodyType  brand cargoVolume curbWeight  \\\n",
       "0              6,8      3-doors, hatchback   Audi  270-1020 l    1375 kg   \n",
       "1              7,8  5-doors, station wagon   Audi  565-1680 l    1745 kg   \n",
       "2              9,2  5-doors, station wagon  Honda  624-1668 l    1188 kg   \n",
       "3              9,5  5-doors, station wagon   Audi  565-1680 l    1685 kg   \n",
       "4              7,0  5-doors, station wagon   Audi  565-1680 l    1680 kg   \n",
       "\n",
       "  driveWheelConfiguration eLabel emissionsCO2 engineCapacity fuelCapacity  \\\n",
       "0              front+rear      g     218 g/km        1781 cc         55 l   \n",
       "1              front+rear      c     115 g/km        1968 cc         73 l   \n",
       "2                   front      e     146 g/km        1798 cc         50 l   \n",
       "3                   front      b     109 g/km        1968 cc         73 l   \n",
       "4                   front      c     144 g/km        1984 cc         73 l   \n",
       "\n",
       "   ...                                                url  \\\n",
       "0  ...  http://www.cars-data.com/en/audi-s3-quattro-sp...   \n",
       "1  ...  http://www.cars-data.com/en/audi-a6-avant-40-t...   \n",
       "2  ...  http://www.cars-data.com/en/honda-civic-tourer...   \n",
       "3  ...  http://www.cars-data.com/en/audi-a6-avant-35-t...   \n",
       "4  ...  http://www.cars-data.com/en/audi-a6-avant-45-t...   \n",
       "\n",
       "  vEengineDisplacement vEenginePower vEengineType vEfuelType  \\\n",
       "0                 1781         154.0  fuel engine   Gasoline   \n",
       "1                 1968         150.0  fuel engine     Diesel   \n",
       "2                 1798         104.0  fuel engine   Gasoline   \n",
       "3                 1968         120.0  fuel engine     Diesel   \n",
       "4                 1984         180.0  fuel engine   Gasoline   \n",
       "\n",
       "            vehicleTransmission weight  weightTotal  wheelbase width  \n",
       "0           Manual transmission    NaN         1935       2519  1763  \n",
       "1  Automatic with double clutch    NaN         2425       2924  1886  \n",
       "2           Manual transmission    NaN         1790       2595  1770  \n",
       "3  Automatic with double clutch    NaN         2330       2924  1886  \n",
       "4  Automatic with double clutch    NaN         2310       2924  1886  \n",
       "\n",
       "[5 rows x 37 columns]"
      ]
     },
     "execution_count": 118,
     "metadata": {},
     "output_type": "execute_result"
    }
   ],
   "source": [
    "df = pd.read_csv('data.csv')\n",
    "df.head()\n"
   ]
  },
  {
   "cell_type": "code",
   "execution_count": 119,
   "metadata": {
    "pycharm": {
     "name": "#%%\n"
    }
   },
   "outputs": [
    {
     "data": {
      "text/plain": [
       "Index(['accelerationTime', 'bodyType', 'brand', 'cargoVolume', 'curbWeight',\n",
       "       'driveWheelConfiguration', 'eLabel', 'emissionsCO2', 'engineCapacity',\n",
       "       'fuelCapacity', 'fuelConsumption', 'fuelType', 'height', 'length',\n",
       "       'model', 'modelDate', 'name', 'numberOfAxles', 'numberOfDoors',\n",
       "       'numberOfForwardGears', 'payload', 'price', 'roofLoad',\n",
       "       'seatingCapacity', 'speed', 'torque', 'trailerWeight', 'url',\n",
       "       'vEengineDisplacement', 'vEenginePower', 'vEengineType', 'vEfuelType',\n",
       "       'vehicleTransmission', 'weight', 'weightTotal', 'wheelbase', 'width'],\n",
       "      dtype='object')"
      ]
     },
     "execution_count": 119,
     "metadata": {},
     "output_type": "execute_result"
    }
   ],
   "source": [
    "df.columns"
   ]
  },
  {
   "cell_type": "code",
   "execution_count": 120,
   "metadata": {
    "pycharm": {
     "name": "#%%\n"
    }
   },
   "outputs": [
    {
     "data": {
      "text/plain": [
       "0         6.8\n",
       "1         7.8\n",
       "2         9.2\n",
       "3         9.5\n",
       "4         7.0\n",
       "         ... \n",
       "75990     9.5\n",
       "75991    11.1\n",
       "75992    10.3\n",
       "75993     9.5\n",
       "75994    11.1\n",
       "Name: accelerationTime, Length: 75995, dtype: float64"
      ]
     },
     "execution_count": 120,
     "metadata": {},
     "output_type": "execute_result"
    }
   ],
   "source": [
    "# accelerationTime\n",
    "df['accelerationTime'] = list(map(lambda x: x.replace(',', '.'), df['accelerationTime']))\n",
    "df['accelerationTime'] = pd.to_numeric(df['accelerationTime'], errors='coerce')\n",
    "df['accelerationTime']"
   ]
  },
  {
   "cell_type": "code",
   "execution_count": 121,
   "metadata": {
    "pycharm": {
     "name": "#%%\n"
    }
   },
   "outputs": [
    {
     "data": {
      "text/plain": [
       "0            hatchback\n",
       "1        station wagon\n",
       "2        station wagon\n",
       "3        station wagon\n",
       "4        station wagon\n",
       "             ...      \n",
       "75990            sedan\n",
       "75991            sedan\n",
       "75992            sedan\n",
       "75993            sedan\n",
       "75994            sedan\n",
       "Name: bodyType, Length: 75995, dtype: string"
      ]
     },
     "execution_count": 121,
     "metadata": {},
     "output_type": "execute_result"
    }
   ],
   "source": [
    "# bodyType\n",
    "# Take string value after \",\"\n",
    "df['bodyType'] = list(map(lambda x: x.split(',')[1].strip(), df['bodyType']))\n",
    "df['bodyType'] = df['bodyType'].astype('string')\n",
    "df['bodyType']"
   ]
  },
  {
   "cell_type": "code",
   "execution_count": 122,
   "metadata": {
    "pycharm": {
     "name": "#%%\n"
    }
   },
   "outputs": [
    {
     "data": {
      "text/plain": [
       "0          Audi\n",
       "1          Audi\n",
       "2         Honda\n",
       "3          Audi\n",
       "4          Audi\n",
       "          ...  \n",
       "75990    Subaru\n",
       "75991    Subaru\n",
       "75992    Subaru\n",
       "75993    Subaru\n",
       "75994    Subaru\n",
       "Name: brand, Length: 75995, dtype: string"
      ]
     },
     "execution_count": 122,
     "metadata": {},
     "output_type": "execute_result"
    }
   ],
   "source": [
    "# brand\n",
    "df['brand'] = df['brand'].astype('string')\n",
    "df['brand']"
   ]
  },
  {
   "cell_type": "code",
   "execution_count": 123,
   "metadata": {
    "pycharm": {
     "name": "#%%\n"
    }
   },
   "outputs": [
    {
     "data": {
      "text/plain": [
       "0        1020.0\n",
       "1        1680.0\n",
       "2        1668.0\n",
       "3        1680.0\n",
       "4        1680.0\n",
       "          ...  \n",
       "75990     486.0\n",
       "75991     486.0\n",
       "75992     486.0\n",
       "75993     486.0\n",
       "75994     486.0\n",
       "Name: cargoVolume, Length: 75995, dtype: float64"
      ]
     },
     "execution_count": 123,
     "metadata": {},
     "output_type": "execute_result"
    }
   ],
   "source": [
    "# cargoVolume\n",
    "# take maximum value and remove \"not digit\" part\n",
    "df[\"cargoVolume\"] = list(map(lambda x: re.findall('\\\\d+', x)[-1] if len(re.findall('\\\\d+', x)) != 0 else \"\", df[\"cargoVolume\"]))\n",
    "df['cargoVolume'] = pd.to_numeric(df['cargoVolume'], errors='coerce')\n",
    "df['cargoVolume']"
   ]
  },
  {
   "cell_type": "code",
   "execution_count": 124,
   "metadata": {
    "pycharm": {
     "name": "#%%\n"
    }
   },
   "outputs": [
    {
     "data": {
      "text/plain": [
       "1049"
      ]
     },
     "execution_count": 124,
     "metadata": {},
     "output_type": "execute_result"
    }
   ],
   "source": [
    "df['cargoVolume'].isna().sum()\n",
    "# df['cargoVolume']"
   ]
  },
  {
   "cell_type": "code",
   "execution_count": 125,
   "metadata": {
    "pycharm": {
     "name": "#%%\n"
    }
   },
   "outputs": [
    {
     "data": {
      "text/plain": [
       "0        1375.0\n",
       "1        1745.0\n",
       "2        1188.0\n",
       "3        1685.0\n",
       "4        1680.0\n",
       "          ...  \n",
       "75990    1395.0\n",
       "75991    1435.0\n",
       "75992    1452.0\n",
       "75993    1395.0\n",
       "75994    1435.0\n",
       "Name: curbWeight, Length: 75995, dtype: float64"
      ]
     },
     "execution_count": 125,
     "metadata": {},
     "output_type": "execute_result"
    }
   ],
   "source": [
    "# curbWeight\n",
    "# remove \"kg\" part and take number if exists\n",
    "df['curbWeight'] = list(map(lambda x: re.findall('\\\\d+', x)[-1] if len(re.findall('\\\\d+', x)) != 0 else \"\", df['curbWeight']))\n",
    "df['curbWeight'] = pd.to_numeric(df['curbWeight'], errors='coerce')\n",
    "df['curbWeight']"
   ]
  },
  {
   "cell_type": "code",
   "execution_count": 126,
   "metadata": {
    "pycharm": {
     "name": "#%%\n"
    }
   },
   "outputs": [
    {
     "data": {
      "text/plain": [
       "226"
      ]
     },
     "execution_count": 126,
     "metadata": {},
     "output_type": "execute_result"
    }
   ],
   "source": [
    "df['curbWeight'].isna().sum()"
   ]
  },
  {
   "cell_type": "code",
   "execution_count": 127,
   "metadata": {
    "pycharm": {
     "name": "#%%\n"
    }
   },
   "outputs": [],
   "source": [
    "# driveWheelConfiguration\n",
    "# not null value exists\n"
   ]
  },
  {
   "cell_type": "code",
   "execution_count": 128,
   "metadata": {
    "pycharm": {
     "name": "#%%\n"
    }
   },
   "outputs": [],
   "source": [
    "# eLabel\n",
    "# have 14154 NA value\n",
    "df['eLabel'] = df['eLabel'].astype('string')"
   ]
  },
  {
   "cell_type": "code",
   "execution_count": 129,
   "metadata": {
    "pycharm": {
     "name": "#%%\n"
    }
   },
   "outputs": [
    {
     "data": {
      "text/plain": [
       "0        218.0\n",
       "1        115.0\n",
       "2        146.0\n",
       "3        109.0\n",
       "4        144.0\n",
       "         ...  \n",
       "75990    198.0\n",
       "75991    185.0\n",
       "75992    190.0\n",
       "75993    198.0\n",
       "75994    185.0\n",
       "Name: emissionsCO2, Length: 75995, dtype: float64"
      ]
     },
     "execution_count": 129,
     "metadata": {},
     "output_type": "execute_result"
    }
   ],
   "source": [
    "# emissionsCO2\n",
    "# remove \"g/km\" part and fill na if exists\n",
    "df['emissionsCO2'] = list(map(lambda x: re.findall('\\\\d+', x)[-1] if len(re.findall('\\\\d+', x)) != 0 else np.nan, df['emissionsCO2']))\n",
    "df['emissionsCO2'] = pd.to_numeric(df['emissionsCO2'], errors='coerce')\n",
    "df['emissionsCO2'] = df['emissionsCO2'].replace(0, np.nan)\n",
    "df['emissionsCO2']"
   ]
  },
  {
   "cell_type": "code",
   "execution_count": 130,
   "metadata": {
    "pycharm": {
     "name": "#%%\n"
    }
   },
   "outputs": [
    {
     "data": {
      "text/plain": [
       "14290"
      ]
     },
     "execution_count": 130,
     "metadata": {},
     "output_type": "execute_result"
    }
   ],
   "source": [
    "df['emissionsCO2'].isna().sum()\n"
   ]
  },
  {
   "cell_type": "code",
   "execution_count": 131,
   "metadata": {
    "pycharm": {
     "name": "#%%\n"
    }
   },
   "outputs": [
    {
     "data": {
      "text/plain": [
       "0        1781.0\n",
       "1        1968.0\n",
       "2        1798.0\n",
       "3        1968.0\n",
       "4        1984.0\n",
       "          ...  \n",
       "75990    1994.0\n",
       "75991    1994.0\n",
       "75992    2457.0\n",
       "75993    1994.0\n",
       "75994    1994.0\n",
       "Name: engineCapacity, Length: 75995, dtype: float64"
      ]
     },
     "execution_count": 131,
     "metadata": {},
     "output_type": "execute_result"
    }
   ],
   "source": [
    "# engineCapacity\n",
    "# take only number\n",
    "df['engineCapacity'] = list(map(lambda x: re.findall('\\\\d+', x)[-1] if len(re.findall('\\\\d+', x)) != 0 else np.nan, df['engineCapacity'].apply(str)))\n",
    "df['engineCapacity'] = pd.to_numeric(df['engineCapacity'], errors='coerce')\n",
    "df['engineCapacity']"
   ]
  },
  {
   "cell_type": "code",
   "execution_count": 132,
   "metadata": {
    "pycharm": {
     "name": "#%%\n"
    }
   },
   "outputs": [
    {
     "data": {
      "text/plain": [
       "177"
      ]
     },
     "execution_count": 132,
     "metadata": {},
     "output_type": "execute_result"
    }
   ],
   "source": [
    "df['engineCapacity'].isna().sum()"
   ]
  },
  {
   "cell_type": "code",
   "execution_count": 133,
   "metadata": {
    "pycharm": {
     "name": "#%%\n"
    }
   },
   "outputs": [
    {
     "data": {
      "text/plain": [
       "0        55.0\n",
       "1        73.0\n",
       "2        50.0\n",
       "3        73.0\n",
       "4        73.0\n",
       "         ... \n",
       "75990    64.0\n",
       "75991    64.0\n",
       "75992    64.0\n",
       "75993    64.0\n",
       "75994    64.0\n",
       "Name: fuelCapacity, Length: 75995, dtype: float64"
      ]
     },
     "execution_count": 133,
     "metadata": {},
     "output_type": "execute_result"
    }
   ],
   "source": [
    "# fuelCapacity\n",
    "# take only number\n",
    "df['fuelCapacity'] = list(map(lambda x: re.findall('\\\\d+', x)[-1] if len(re.findall('\\\\d+', x)) != 0 else np.nan, df['fuelCapacity'].apply(str)))\n",
    "df['fuelCapacity'] = pd.to_numeric(df['fuelCapacity'], errors='coerce')\n",
    "df['fuelCapacity']"
   ]
  },
  {
   "cell_type": "code",
   "execution_count": 134,
   "metadata": {
    "pycharm": {
     "name": "#%%\n"
    }
   },
   "outputs": [
    {
     "data": {
      "text/plain": [
       "180"
      ]
     },
     "execution_count": 134,
     "metadata": {},
     "output_type": "execute_result"
    }
   ],
   "source": [
    "df['fuelCapacity'].isna().sum()\n"
   ]
  },
  {
   "cell_type": "code",
   "execution_count": 135,
   "metadata": {
    "pycharm": {
     "name": "#%%\n"
    }
   },
   "outputs": [
    {
     "data": {
      "text/plain": [
       "0        9.1\n",
       "1        5.9\n",
       "2        6.2\n",
       "3        5.4\n",
       "4        7.4\n",
       "        ... \n",
       "75990    8.5\n",
       "75991    8.0\n",
       "75992    8.2\n",
       "75993    8.5\n",
       "75994    8.0\n",
       "Name: fuelConsumption, Length: 75995, dtype: float64"
      ]
     },
     "execution_count": 135,
     "metadata": {},
     "output_type": "execute_result"
    }
   ],
   "source": [
    "# fuelConsumption\n",
    "df['fuelConsumption'] = list(map(lambda x: x.replace(\"l/100km\", \"\").replace(\",\", \".\"), df['fuelConsumption'].apply(str)))\n",
    "df['fuelConsumption'] = pd.to_numeric(df['fuelConsumption'], errors='coerce')\n",
    "df['fuelConsumption']"
   ]
  },
  {
   "cell_type": "code",
   "execution_count": 136,
   "metadata": {
    "pycharm": {
     "name": "#%%\n"
    }
   },
   "outputs": [
    {
     "data": {
      "text/plain": [
       "0        9.1\n",
       "1        5.9\n",
       "2        6.2\n",
       "3        5.4\n",
       "4        7.4\n",
       "        ... \n",
       "75990    8.5\n",
       "75991    8.0\n",
       "75992    8.2\n",
       "75993    8.5\n",
       "75994    8.0\n",
       "Name: fuelConsumption, Length: 75995, dtype: float64"
      ]
     },
     "execution_count": 136,
     "metadata": {},
     "output_type": "execute_result"
    }
   ],
   "source": [
    "df['fuelConsumption']"
   ]
  },
  {
   "cell_type": "code",
   "execution_count": 137,
   "metadata": {
    "pycharm": {
     "name": "#%%\n"
    }
   },
   "outputs": [],
   "source": [
    "# fuelType\n",
    "df['fuelType'] = df['fuelType'].astype(\"string\")"
   ]
  },
  {
   "cell_type": "code",
   "execution_count": 138,
   "metadata": {
    "pycharm": {
     "name": "#%%\n"
    }
   },
   "outputs": [
    {
     "data": {
      "text/plain": [
       "137"
      ]
     },
     "execution_count": 138,
     "metadata": {},
     "output_type": "execute_result"
    }
   ],
   "source": [
    "df['fuelType'].isna().sum()"
   ]
  },
  {
   "cell_type": "code",
   "execution_count": 139,
   "metadata": {
    "pycharm": {
     "name": "#%%\n"
    }
   },
   "outputs": [
    {
     "data": {
      "text/plain": [
       "0        1415.0\n",
       "1        1494.0\n",
       "2        1480.0\n",
       "3        1494.0\n",
       "4        1494.0\n",
       "          ...  \n",
       "75990    1505.0\n",
       "75991    1505.0\n",
       "75992    1505.0\n",
       "75993    1505.0\n",
       "75994    1505.0\n",
       "Name: height, Length: 75995, dtype: float64"
      ]
     },
     "execution_count": 139,
     "metadata": {},
     "output_type": "execute_result"
    }
   ],
   "source": [
    "# height\n",
    "df['height'] = list(map(lambda x: re.findall('\\\\d+', x)[-1] if len(re.findall('\\\\d+', x)) != 0 else np.nan, df['height'].apply(str)))\n",
    "df['height'] = pd.to_numeric(df['height'], errors='coerce')\n",
    "df['height']"
   ]
  },
  {
   "cell_type": "code",
   "execution_count": 140,
   "metadata": {
    "pycharm": {
     "name": "#%%\n"
    }
   },
   "outputs": [
    {
     "data": {
      "text/plain": [
       "70"
      ]
     },
     "execution_count": 140,
     "metadata": {},
     "output_type": "execute_result"
    }
   ],
   "source": [
    "df['height'].isna().sum()"
   ]
  },
  {
   "cell_type": "code",
   "execution_count": 141,
   "metadata": {
    "pycharm": {
     "name": "#%%\n"
    }
   },
   "outputs": [
    {
     "data": {
      "text/plain": [
       "0        4159.0\n",
       "1        4939.0\n",
       "2        4590.0\n",
       "3        4939.0\n",
       "4        4939.0\n",
       "          ...  \n",
       "75990    4730.0\n",
       "75991    4730.0\n",
       "75992    4730.0\n",
       "75993    4730.0\n",
       "75994    4730.0\n",
       "Name: length, Length: 75995, dtype: float64"
      ]
     },
     "execution_count": 141,
     "metadata": {},
     "output_type": "execute_result"
    }
   ],
   "source": [
    "# length\n",
    "df['length'] = list(map(lambda x: re.findall('\\\\d+', x)[-1] if len(re.findall('\\\\d+', x)) != 0 else np.nan, df['length'].apply(str)))\n",
    "df['length'] = pd.to_numeric(df['length'], errors='coerce')\n",
    "df['length']"
   ]
  },
  {
   "cell_type": "code",
   "execution_count": 142,
   "metadata": {
    "pycharm": {
     "name": "#%%\n"
    }
   },
   "outputs": [
    {
     "data": {
      "text/plain": [
       "21"
      ]
     },
     "execution_count": 142,
     "metadata": {},
     "output_type": "execute_result"
    }
   ],
   "source": [
    "df['length'].isna().sum()"
   ]
  },
  {
   "cell_type": "code",
   "execution_count": 143,
   "metadata": {
    "pycharm": {
     "name": "#%%\n"
    }
   },
   "outputs": [
    {
     "data": {
      "text/plain": [
       "0"
      ]
     },
     "execution_count": 143,
     "metadata": {},
     "output_type": "execute_result"
    }
   ],
   "source": [
    "# model\n",
    "df['model'].isna().sum()\n"
   ]
  },
  {
   "cell_type": "code",
   "execution_count": 144,
   "metadata": {
    "pycharm": {
     "name": "#%%\n"
    }
   },
   "outputs": [
    {
     "data": {
      "text/plain": [
       "0        1999\n",
       "1        2018\n",
       "2        2015\n",
       "3        2018\n",
       "4        2018\n",
       "         ... \n",
       "75990    2009\n",
       "75991    2009\n",
       "75992    2009\n",
       "75993    2009\n",
       "75994    2009\n",
       "Name: modelDate, Length: 75995, dtype: Int32"
      ]
     },
     "execution_count": 144,
     "metadata": {},
     "output_type": "execute_result"
    }
   ],
   "source": [
    "# modelDate\n",
    "df['modelDate'] = df['modelDate'].astype('Int32')\n",
    "df['modelDate']"
   ]
  },
  {
   "cell_type": "code",
   "execution_count": 145,
   "metadata": {
    "pycharm": {
     "name": "#%%\n"
    }
   },
   "outputs": [
    {
     "data": {
      "text/plain": [
       "0                     Audi S3 Quattro Manual 3 doors specs\n",
       "1        Audi A6 Avant 40 TDI Quattro Pro Line Automati...\n",
       "2        Honda Civic Tourer 1.8 Comfort Manual 5 doors ...\n",
       "3        Audi A6 Avant 35 TDI Pro Line Automatic 5 door...\n",
       "4        Audi A6 Avant 45 TFSI Pro Line Automatic 5 doo...\n",
       "                               ...                        \n",
       "75990        Subaru Legacy 2.0i Intro Manual 4 doors specs\n",
       "75991     Subaru Legacy 2.0i Intro Automatic 4 doors specs\n",
       "75992    Subaru Legacy 2.5i Luxury Automatic 4 doors specs\n",
       "75993    Subaru Legacy 2.0i Corporate Edition Manual 4 ...\n",
       "75994    Subaru Legacy 2.0i Corporate Edition Automatic...\n",
       "Name: name, Length: 75995, dtype: string"
      ]
     },
     "execution_count": 145,
     "metadata": {},
     "output_type": "execute_result"
    }
   ],
   "source": [
    "# name\n",
    "df['name'] = df['name'].astype('string')\n",
    "df['name']\n"
   ]
  },
  {
   "cell_type": "code",
   "execution_count": 146,
   "metadata": {
    "pycharm": {
     "name": "#%%\n"
    }
   },
   "outputs": [
    {
     "data": {
      "text/plain": [
       "0"
      ]
     },
     "execution_count": 146,
     "metadata": {},
     "output_type": "execute_result"
    }
   ],
   "source": [
    "# number of Axles\n",
    "df['numberOfAxles'] = df['numberOfAxles'].astype('Int32')\n",
    "df['numberOfAxles'].isna().sum()"
   ]
  },
  {
   "cell_type": "code",
   "execution_count": 147,
   "metadata": {
    "pycharm": {
     "name": "#%%\n"
    }
   },
   "outputs": [],
   "source": [
    "# numberOfForwardGears\n",
    "df['numberOfForwardGears'] = df['numberOfForwardGears'].replace('t', np.nan)"
   ]
  },
  {
   "cell_type": "code",
   "execution_count": 148,
   "metadata": {
    "pycharm": {
     "name": "#%%\n"
    }
   },
   "outputs": [
    {
     "data": {
      "text/plain": [
       "1969"
      ]
     },
     "execution_count": 148,
     "metadata": {},
     "output_type": "execute_result"
    }
   ],
   "source": [
    "df['numberOfForwardGears'].isna().sum()"
   ]
  },
  {
   "cell_type": "code",
   "execution_count": 149,
   "metadata": {
    "pycharm": {
     "name": "#%%\n"
    }
   },
   "outputs": [
    {
     "data": {
      "text/plain": [
       "0        560.0\n",
       "1        680.0\n",
       "2        602.0\n",
       "3        645.0\n",
       "4        630.0\n",
       "         ...  \n",
       "75990    605.0\n",
       "75991    585.0\n",
       "75992    568.0\n",
       "75993    605.0\n",
       "75994    585.0\n",
       "Name: payload, Length: 75995, dtype: float64"
      ]
     },
     "execution_count": 149,
     "metadata": {},
     "output_type": "execute_result"
    }
   ],
   "source": [
    "# payload\n",
    "df['payload'] = list(map(lambda x: re.findall('\\\\d+', x)[-1] if len(re.findall('\\\\d+', x)) != 0 else np.nan, df['payload'].apply(str)))\n",
    "df['payload'] = pd.to_numeric(df['payload'], errors='coerce')\n",
    "df['payload']"
   ]
  },
  {
   "cell_type": "code",
   "execution_count": 150,
   "metadata": {
    "pycharm": {
     "name": "#%%\n"
    }
   },
   "outputs": [
    {
     "data": {
      "text/plain": [
       "1019"
      ]
     },
     "execution_count": 150,
     "metadata": {},
     "output_type": "execute_result"
    }
   ],
   "source": [
    "df['payload'].isna().sum()"
   ]
  },
  {
   "cell_type": "code",
   "execution_count": 151,
   "metadata": {
    "pycharm": {
     "name": "#%%\n"
    }
   },
   "outputs": [
    {
     "data": {
      "text/plain": [
       "0        42.247\n",
       "1        68.930\n",
       "2        30.580\n",
       "3        64.510\n",
       "4        69.770\n",
       "          ...  \n",
       "75990    31.995\n",
       "75991    33.995\n",
       "75992    39.995\n",
       "75993    29.995\n",
       "75994    30.995\n",
       "Name: price, Length: 75995, dtype: float64"
      ]
     },
     "execution_count": 151,
     "metadata": {},
     "output_type": "execute_result"
    }
   ],
   "source": [
    "# price\n",
    "df['price'] = list(map(lambda x: re.findall('\\\\d+.*\\\\d*', x)[-1] if len(re.findall('\\\\d+', x)) != 0 else np.nan, df['price'].apply(str)))\n",
    "df['price'] = pd.to_numeric(df['price'], errors='coerce')\n",
    "df['price']"
   ]
  },
  {
   "cell_type": "code",
   "execution_count": 152,
   "metadata": {
    "pycharm": {
     "name": "#%%\n"
    }
   },
   "outputs": [
    {
     "data": {
      "text/plain": [
       "171"
      ]
     },
     "execution_count": 152,
     "metadata": {},
     "output_type": "execute_result"
    }
   ],
   "source": [
    "df['price'] = df['price'].replace(0, np.nan)\n",
    "df['price'].isna().sum()"
   ]
  },
  {
   "cell_type": "code",
   "execution_count": 153,
   "metadata": {
    "pycharm": {
     "name": "#%%\n"
    }
   },
   "outputs": [
    {
     "data": {
      "text/plain": [
       "0         75.0\n",
       "1        100.0\n",
       "2         75.0\n",
       "3        100.0\n",
       "4        100.0\n",
       "         ...  \n",
       "75990     80.0\n",
       "75991     80.0\n",
       "75992     80.0\n",
       "75993     80.0\n",
       "75994     80.0\n",
       "Name: roofLoad, Length: 75995, dtype: float64"
      ]
     },
     "execution_count": 153,
     "metadata": {},
     "output_type": "execute_result"
    }
   ],
   "source": [
    "# roofLoad\n",
    "df['roofLoad'] = list(map(lambda x: re.findall('\\\\d+', x)[-1] if len(re.findall('\\\\d+', x)) != 0 else np.nan, df['roofLoad'].apply(str)))\n",
    "df['roofLoad'] = pd.to_numeric(df['roofLoad'], errors='coerce')\n",
    "df['roofLoad']"
   ]
  },
  {
   "cell_type": "code",
   "execution_count": 154,
   "metadata": {
    "pycharm": {
     "name": "#%%\n"
    }
   },
   "outputs": [
    {
     "data": {
      "text/plain": [
       "11222"
      ]
     },
     "execution_count": 154,
     "metadata": {},
     "output_type": "execute_result"
    }
   ],
   "source": [
    "df['roofLoad'].isna().sum()"
   ]
  },
  {
   "cell_type": "code",
   "execution_count": 155,
   "metadata": {
    "pycharm": {
     "name": "#%%\n"
    }
   },
   "outputs": [
    {
     "data": {
      "text/plain": [
       "0        5.0\n",
       "1        5.0\n",
       "2        5.0\n",
       "3        5.0\n",
       "4        5.0\n",
       "        ... \n",
       "75990    5.0\n",
       "75991    5.0\n",
       "75992    5.0\n",
       "75993    5.0\n",
       "75994    5.0\n",
       "Name: seatingCapacity, Length: 75995, dtype: float64"
      ]
     },
     "execution_count": 155,
     "metadata": {},
     "output_type": "execute_result"
    }
   ],
   "source": [
    "# seating Capacity\n",
    "df['seatingCapacity'] = pd.to_numeric(df['seatingCapacity'], errors='coerce')\n",
    "df['seatingCapacity'] = df['seatingCapacity'].replace(0, np.nan)\n",
    "df['seatingCapacity']"
   ]
  },
  {
   "cell_type": "code",
   "execution_count": 156,
   "metadata": {
    "pycharm": {
     "name": "#%%\n"
    }
   },
   "outputs": [
    {
     "data": {
      "text/plain": [
       "1969"
      ]
     },
     "execution_count": 156,
     "metadata": {},
     "output_type": "execute_result"
    }
   ],
   "source": [
    "df['seatingCapacity'].isna().sum()"
   ]
  },
  {
   "cell_type": "code",
   "execution_count": 157,
   "metadata": {
    "pycharm": {
     "name": "#%%\n"
    }
   },
   "outputs": [
    {
     "data": {
      "text/plain": [
       "0        238.0\n",
       "1        241.0\n",
       "2        210.0\n",
       "3        219.0\n",
       "4        250.0\n",
       "         ...  \n",
       "75990    210.0\n",
       "75991    203.0\n",
       "75992    210.0\n",
       "75993    210.0\n",
       "75994    203.0\n",
       "Name: speed, Length: 75995, dtype: float64"
      ]
     },
     "execution_count": 157,
     "metadata": {},
     "output_type": "execute_result"
    }
   ],
   "source": [
    "# speed\n",
    "df['speed'] = list(map(lambda x: re.findall('\\\\d+', x)[-1] if len(re.findall('\\\\d+', x)) != 0 else np.nan, df['speed'].apply(str)))\n",
    "df['speed'] = pd.to_numeric(df['speed'], errors='coerce')\n",
    "df['speed']"
   ]
  },
  {
   "cell_type": "code",
   "execution_count": 158,
   "metadata": {
    "pycharm": {
     "name": "#%%\n"
    }
   },
   "outputs": [
    {
     "data": {
      "text/plain": [
       "780"
      ]
     },
     "execution_count": 158,
     "metadata": {},
     "output_type": "execute_result"
    }
   ],
   "source": [
    "# speed\n",
    "df['speed'].isna().sum()"
   ]
  },
  {
   "cell_type": "code",
   "execution_count": 159,
   "metadata": {
    "pycharm": {
     "name": "#%%\n"
    }
   },
   "outputs": [
    {
     "data": {
      "text/plain": [
       "0        270.0\n",
       "1        400.0\n",
       "2        174.0\n",
       "3        370.0\n",
       "4        370.0\n",
       "         ...  \n",
       "75990    196.0\n",
       "75991    196.0\n",
       "75992    229.0\n",
       "75993    196.0\n",
       "75994    196.0\n",
       "Name: torque, Length: 75995, dtype: float64"
      ]
     },
     "execution_count": 159,
     "metadata": {},
     "output_type": "execute_result"
    }
   ],
   "source": [
    "# torque\n",
    "df['torque'] = list(map(lambda x: re.findall('\\\\d+', x)[-1] if len(re.findall('\\\\d+', x)) != 0 else np.nan, df['torque'].apply(str)))\n",
    "df['torque'] = pd.to_numeric(df['torque'], errors='coerce')\n",
    "df['torque']\n"
   ]
  },
  {
   "cell_type": "code",
   "execution_count": 160,
   "metadata": {
    "pycharm": {
     "name": "#%%\n"
    }
   },
   "outputs": [
    {
     "data": {
      "text/plain": [
       "107"
      ]
     },
     "execution_count": 160,
     "metadata": {},
     "output_type": "execute_result"
    }
   ],
   "source": [
    "df['torque'].isna().sum()\n"
   ]
  },
  {
   "cell_type": "code",
   "execution_count": 161,
   "metadata": {
    "pycharm": {
     "name": "#%%\n"
    }
   },
   "outputs": [
    {
     "data": {
      "text/plain": [
       "0        1781.0\n",
       "1        1968.0\n",
       "2        1798.0\n",
       "3        1968.0\n",
       "4        1984.0\n",
       "          ...  \n",
       "75990    1994.0\n",
       "75991    1994.0\n",
       "75992    2457.0\n",
       "75993    1994.0\n",
       "75994    1994.0\n",
       "Name: vEengineDisplacement, Length: 75995, dtype: float64"
      ]
     },
     "execution_count": 161,
     "metadata": {},
     "output_type": "execute_result"
    }
   ],
   "source": [
    "# vEengineDisplacement\n",
    "df['vEengineDisplacement'] = list(map(lambda x: re.findall('\\\\d+', x)[-1] if len(re.findall('\\\\d+', x)) != 0 else np.nan, df['vEengineDisplacement'].apply(str)))\n",
    "df['vEengineDisplacement'] = pd.to_numeric(df['vEengineDisplacement'], errors='coerce')\n",
    "df['vEengineDisplacement']"
   ]
  },
  {
   "cell_type": "code",
   "execution_count": 162,
   "metadata": {
    "pycharm": {
     "name": "#%%\n"
    }
   },
   "outputs": [
    {
     "data": {
      "text/plain": [
       "177"
      ]
     },
     "execution_count": 162,
     "metadata": {},
     "output_type": "execute_result"
    }
   ],
   "source": [
    "df['vEengineDisplacement'].isna().sum()"
   ]
  },
  {
   "cell_type": "code",
   "execution_count": 163,
   "metadata": {
    "pycharm": {
     "name": "#%%\n"
    }
   },
   "outputs": [
    {
     "data": {
      "text/plain": [
       "0        154.0\n",
       "1        150.0\n",
       "2        104.0\n",
       "3        120.0\n",
       "4        180.0\n",
       "         ...  \n",
       "75990    110.0\n",
       "75991    110.0\n",
       "75992    123.0\n",
       "75993    110.0\n",
       "75994    110.0\n",
       "Name: vEenginePower, Length: 75995, dtype: float64"
      ]
     },
     "execution_count": 163,
     "metadata": {},
     "output_type": "execute_result"
    }
   ],
   "source": [
    "# vEenginePower\n",
    "df['vEenginePower'] = pd.to_numeric(df['vEenginePower'], errors='coerce')\n",
    "df['vEenginePower']"
   ]
  },
  {
   "cell_type": "code",
   "execution_count": 164,
   "metadata": {
    "pycharm": {
     "name": "#%%\n"
    }
   },
   "outputs": [
    {
     "data": {
      "text/plain": [
       "49"
      ]
     },
     "execution_count": 164,
     "metadata": {},
     "output_type": "execute_result"
    }
   ],
   "source": [
    "df['vEenginePower'].isna().sum()"
   ]
  },
  {
   "cell_type": "code",
   "execution_count": 165,
   "metadata": {
    "pycharm": {
     "name": "#%%\n"
    }
   },
   "outputs": [
    {
     "data": {
      "text/plain": [
       "0        fuel engine\n",
       "1        fuel engine\n",
       "2        fuel engine\n",
       "3        fuel engine\n",
       "4        fuel engine\n",
       "            ...     \n",
       "75990    fuel engine\n",
       "75991    fuel engine\n",
       "75992    fuel engine\n",
       "75993    fuel engine\n",
       "75994    fuel engine\n",
       "Name: vEengineType, Length: 75995, dtype: string"
      ]
     },
     "execution_count": 165,
     "metadata": {},
     "output_type": "execute_result"
    }
   ],
   "source": [
    "# vEengineType\n",
    "df['vEengineType'] = df['vEengineType'].astype(\"string\")\n",
    "df['vEengineType']"
   ]
  },
  {
   "cell_type": "code",
   "execution_count": 166,
   "metadata": {
    "pycharm": {
     "name": "#%%\n"
    }
   },
   "outputs": [
    {
     "data": {
      "text/plain": [
       "0        Gasoline\n",
       "1          Diesel\n",
       "2        Gasoline\n",
       "3          Diesel\n",
       "4        Gasoline\n",
       "           ...   \n",
       "75990    Gasoline\n",
       "75991    Gasoline\n",
       "75992    Gasoline\n",
       "75993    Gasoline\n",
       "75994    Gasoline\n",
       "Name: vEfuelType, Length: 75995, dtype: string"
      ]
     },
     "execution_count": 166,
     "metadata": {},
     "output_type": "execute_result"
    }
   ],
   "source": [
    "# vEfuelType\n",
    "df['vEfuelType'] = df['vEfuelType'].replace(\"\", pd.NA)\n",
    "df['vEfuelType'] = df['vEfuelType'].astype(\"string\")\n",
    "df['vEfuelType']"
   ]
  },
  {
   "cell_type": "code",
   "execution_count": 167,
   "metadata": {
    "pycharm": {
     "name": "#%%\n"
    }
   },
   "outputs": [
    {
     "data": {
      "text/plain": [
       "0                 Manual transmission\n",
       "1        Automatic with double clutch\n",
       "2                 Manual transmission\n",
       "3        Automatic with double clutch\n",
       "4        Automatic with double clutch\n",
       "                     ...             \n",
       "75990             Manual transmission\n",
       "75991              traploze automatic\n",
       "75992              traploze automatic\n",
       "75993             Manual transmission\n",
       "75994              traploze automatic\n",
       "Name: vehicleTransmission, Length: 75995, dtype: string"
      ]
     },
     "execution_count": 167,
     "metadata": {},
     "output_type": "execute_result"
    }
   ],
   "source": [
    "# vehicleTransmission\n",
    "df['vehicleTransmission'] = df['vehicleTransmission'].astype(\"string\")\n",
    "df['vehicleTransmission']"
   ]
  },
  {
   "cell_type": "code",
   "execution_count": 168,
   "metadata": {
    "pycharm": {
     "name": "#%%\n"
    }
   },
   "outputs": [
    {
     "data": {
      "text/plain": [
       "0        1935.0\n",
       "1        2425.0\n",
       "2        1790.0\n",
       "3        2330.0\n",
       "4        2310.0\n",
       "          ...  \n",
       "75990    2000.0\n",
       "75991    2020.0\n",
       "75992    2020.0\n",
       "75993    2000.0\n",
       "75994    2020.0\n",
       "Name: weightTotal, Length: 75995, dtype: float64"
      ]
     },
     "execution_count": 168,
     "metadata": {},
     "output_type": "execute_result"
    }
   ],
   "source": [
    "# weightTotal\n",
    "df['weightTotal'] = list(map(lambda x: re.findall('\\\\d+', x)[-1] if len(re.findall('\\\\d+', x)) != 0 else np.nan, df['weightTotal'].apply(str)))\n",
    "df['weightTotal'] = pd.to_numeric(df['weightTotal'], errors='coerce')\n",
    "df['weightTotal']"
   ]
  },
  {
   "cell_type": "code",
   "execution_count": 169,
   "metadata": {
    "pycharm": {
     "name": "#%%\n"
    }
   },
   "outputs": [
    {
     "data": {
      "text/plain": [
       "1012"
      ]
     },
     "execution_count": 169,
     "metadata": {},
     "output_type": "execute_result"
    }
   ],
   "source": [
    "df['weightTotal'].isna().sum()"
   ]
  },
  {
   "cell_type": "code",
   "execution_count": 170,
   "metadata": {
    "pycharm": {
     "name": "#%%\n"
    }
   },
   "outputs": [
    {
     "data": {
      "text/plain": [
       "0        2519.0\n",
       "1        2924.0\n",
       "2        2595.0\n",
       "3        2924.0\n",
       "4        2924.0\n",
       "          ...  \n",
       "75990    2750.0\n",
       "75991    2750.0\n",
       "75992    2750.0\n",
       "75993    2750.0\n",
       "75994    2750.0\n",
       "Name: wheelbase, Length: 75995, dtype: float64"
      ]
     },
     "execution_count": 170,
     "metadata": {},
     "output_type": "execute_result"
    }
   ],
   "source": [
    "# wheelbase\n",
    "df['wheelbase'] = list(map(lambda x: re.findall('\\\\d+', x)[-1] if len(re.findall('\\\\d+', x)) != 0 else np.nan, df['wheelbase'].apply(str)))\n",
    "df['wheelbase'] = pd.to_numeric(df['wheelbase'], errors='coerce')\n",
    "df['wheelbase']"
   ]
  },
  {
   "cell_type": "code",
   "execution_count": 171,
   "metadata": {
    "pycharm": {
     "name": "#%%\n"
    }
   },
   "outputs": [
    {
     "data": {
      "text/plain": [
       "0        1763.0\n",
       "1        1886.0\n",
       "2        1770.0\n",
       "3        1886.0\n",
       "4        1886.0\n",
       "          ...  \n",
       "75990    1780.0\n",
       "75991    1780.0\n",
       "75992    1780.0\n",
       "75993    1780.0\n",
       "75994    1780.0\n",
       "Name: width, Length: 75995, dtype: float64"
      ]
     },
     "execution_count": 171,
     "metadata": {},
     "output_type": "execute_result"
    }
   ],
   "source": [
    "# width\n",
    "df['width'] = list(map(lambda x: re.findall('\\\\d+', x)[-1] if len(re.findall('\\\\d+', x)) != 0 else np.nan, df['width'].apply(str)))\n",
    "df['width'] = pd.to_numeric(df['width'], errors='coerce')\n",
    "df['width']"
   ]
  },
  {
   "cell_type": "code",
   "execution_count": 172,
   "metadata": {
    "pycharm": {
     "name": "#%%\n"
    }
   },
   "outputs": [
    {
     "data": {
      "text/plain": [
       "25"
      ]
     },
     "execution_count": 172,
     "metadata": {},
     "output_type": "execute_result"
    }
   ],
   "source": [
    "df['width'].isna().sum()"
   ]
  },
  {
   "cell_type": "code",
   "execution_count": 173,
   "metadata": {
    "pycharm": {
     "name": "#%%\n"
    }
   },
   "outputs": [
    {
     "data": {
      "text/plain": [
       "26"
      ]
     },
     "execution_count": 173,
     "metadata": {},
     "output_type": "execute_result"
    }
   ],
   "source": [
    "df['wheelbase'].isna().sum()\n"
   ]
  },
  {
   "cell_type": "code",
   "execution_count": 174,
   "metadata": {
    "pycharm": {
     "name": "#%%\n"
    }
   },
   "outputs": [],
   "source": [
    "df.to_csv('cars_data_cleaning.csv', index=False)"
   ]
  },
  {
   "cell_type": "code",
   "execution_count": 174,
   "metadata": {
    "pycharm": {
     "name": "#%%\n"
    }
   },
   "outputs": [],
   "source": []
  }
 ],
 "metadata": {
  "kernelspec": {
   "display_name": "Python 3 (ipykernel)",
   "language": "python",
   "name": "python3"
  },
  "language_info": {
   "codemirror_mode": {
    "name": "ipython",
    "version": 3
   },
   "file_extension": ".py",
   "mimetype": "text/x-python",
   "name": "python",
   "nbconvert_exporter": "python",
   "pygments_lexer": "ipython3",
   "version": "3.8.10"
  }
 },
 "nbformat": 4,
 "nbformat_minor": 1
}
