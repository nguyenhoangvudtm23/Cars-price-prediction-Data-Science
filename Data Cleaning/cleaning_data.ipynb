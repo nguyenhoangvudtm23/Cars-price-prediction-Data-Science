{
 "cells": [
  {
   "cell_type": "code",
   "execution_count": 117,
   "metadata": {
    "collapsed": true
   },
   "outputs": [],
   "source": [
    "import pandas as pd\n",
    "import numpy as np\n",
    "import re"
   ]
  },
  {
   "cell_type": "code",
   "execution_count": 118,
   "outputs": [
    {
     "data": {
      "text/plain": "  accelerationTime                bodyType  brand cargoVolume curbWeight  \\\n0              6,8      3-doors, hatchback   Audi  270-1020 l    1375 kg   \n1              7,8  5-doors, station wagon   Audi  565-1680 l    1745 kg   \n2              9,2  5-doors, station wagon  Honda  624-1668 l    1188 kg   \n3              9,5  5-doors, station wagon   Audi  565-1680 l    1685 kg   \n4              7,0  5-doors, station wagon   Audi  565-1680 l    1680 kg   \n\n  driveWheelConfiguration eLabel emissionsCO2 engineCapacity fuelCapacity  \\\n0              front+rear      g     218 g/km        1781 cc         55 l   \n1              front+rear      c     115 g/km        1968 cc         73 l   \n2                   front      e     146 g/km        1798 cc         50 l   \n3                   front      b     109 g/km        1968 cc         73 l   \n4                   front      c     144 g/km        1984 cc         73 l   \n\n   ...                                                url  \\\n0  ...  http://www.cars-data.com/en/audi-s3-quattro-sp...   \n1  ...  http://www.cars-data.com/en/audi-a6-avant-40-t...   \n2  ...  http://www.cars-data.com/en/honda-civic-tourer...   \n3  ...  http://www.cars-data.com/en/audi-a6-avant-35-t...   \n4  ...  http://www.cars-data.com/en/audi-a6-avant-45-t...   \n\n  vEengineDisplacement vEenginePower vEengineType vEfuelType  \\\n0                 1781         154.0  fuel engine   Gasoline   \n1                 1968         150.0  fuel engine     Diesel   \n2                 1798         104.0  fuel engine   Gasoline   \n3                 1968         120.0  fuel engine     Diesel   \n4                 1984         180.0  fuel engine   Gasoline   \n\n            vehicleTransmission weight  weightTotal  wheelbase width  \n0           Manual transmission    NaN         1935       2519  1763  \n1  Automatic with double clutch    NaN         2425       2924  1886  \n2           Manual transmission    NaN         1790       2595  1770  \n3  Automatic with double clutch    NaN         2330       2924  1886  \n4  Automatic with double clutch    NaN         2310       2924  1886  \n\n[5 rows x 37 columns]",
      "text/html": "<div>\n<style scoped>\n    .dataframe tbody tr th:only-of-type {\n        vertical-align: middle;\n    }\n\n    .dataframe tbody tr th {\n        vertical-align: top;\n    }\n\n    .dataframe thead th {\n        text-align: right;\n    }\n</style>\n<table border=\"1\" class=\"dataframe\">\n  <thead>\n    <tr style=\"text-align: right;\">\n      <th></th>\n      <th>accelerationTime</th>\n      <th>bodyType</th>\n      <th>brand</th>\n      <th>cargoVolume</th>\n      <th>curbWeight</th>\n      <th>driveWheelConfiguration</th>\n      <th>eLabel</th>\n      <th>emissionsCO2</th>\n      <th>engineCapacity</th>\n      <th>fuelCapacity</th>\n      <th>...</th>\n      <th>url</th>\n      <th>vEengineDisplacement</th>\n      <th>vEenginePower</th>\n      <th>vEengineType</th>\n      <th>vEfuelType</th>\n      <th>vehicleTransmission</th>\n      <th>weight</th>\n      <th>weightTotal</th>\n      <th>wheelbase</th>\n      <th>width</th>\n    </tr>\n  </thead>\n  <tbody>\n    <tr>\n      <th>0</th>\n      <td>6,8</td>\n      <td>3-doors, hatchback</td>\n      <td>Audi</td>\n      <td>270-1020 l</td>\n      <td>1375 kg</td>\n      <td>front+rear</td>\n      <td>g</td>\n      <td>218 g/km</td>\n      <td>1781 cc</td>\n      <td>55 l</td>\n      <td>...</td>\n      <td>http://www.cars-data.com/en/audi-s3-quattro-sp...</td>\n      <td>1781</td>\n      <td>154.0</td>\n      <td>fuel engine</td>\n      <td>Gasoline</td>\n      <td>Manual transmission</td>\n      <td>NaN</td>\n      <td>1935</td>\n      <td>2519</td>\n      <td>1763</td>\n    </tr>\n    <tr>\n      <th>1</th>\n      <td>7,8</td>\n      <td>5-doors, station wagon</td>\n      <td>Audi</td>\n      <td>565-1680 l</td>\n      <td>1745 kg</td>\n      <td>front+rear</td>\n      <td>c</td>\n      <td>115 g/km</td>\n      <td>1968 cc</td>\n      <td>73 l</td>\n      <td>...</td>\n      <td>http://www.cars-data.com/en/audi-a6-avant-40-t...</td>\n      <td>1968</td>\n      <td>150.0</td>\n      <td>fuel engine</td>\n      <td>Diesel</td>\n      <td>Automatic with double clutch</td>\n      <td>NaN</td>\n      <td>2425</td>\n      <td>2924</td>\n      <td>1886</td>\n    </tr>\n    <tr>\n      <th>2</th>\n      <td>9,2</td>\n      <td>5-doors, station wagon</td>\n      <td>Honda</td>\n      <td>624-1668 l</td>\n      <td>1188 kg</td>\n      <td>front</td>\n      <td>e</td>\n      <td>146 g/km</td>\n      <td>1798 cc</td>\n      <td>50 l</td>\n      <td>...</td>\n      <td>http://www.cars-data.com/en/honda-civic-tourer...</td>\n      <td>1798</td>\n      <td>104.0</td>\n      <td>fuel engine</td>\n      <td>Gasoline</td>\n      <td>Manual transmission</td>\n      <td>NaN</td>\n      <td>1790</td>\n      <td>2595</td>\n      <td>1770</td>\n    </tr>\n    <tr>\n      <th>3</th>\n      <td>9,5</td>\n      <td>5-doors, station wagon</td>\n      <td>Audi</td>\n      <td>565-1680 l</td>\n      <td>1685 kg</td>\n      <td>front</td>\n      <td>b</td>\n      <td>109 g/km</td>\n      <td>1968 cc</td>\n      <td>73 l</td>\n      <td>...</td>\n      <td>http://www.cars-data.com/en/audi-a6-avant-35-t...</td>\n      <td>1968</td>\n      <td>120.0</td>\n      <td>fuel engine</td>\n      <td>Diesel</td>\n      <td>Automatic with double clutch</td>\n      <td>NaN</td>\n      <td>2330</td>\n      <td>2924</td>\n      <td>1886</td>\n    </tr>\n    <tr>\n      <th>4</th>\n      <td>7,0</td>\n      <td>5-doors, station wagon</td>\n      <td>Audi</td>\n      <td>565-1680 l</td>\n      <td>1680 kg</td>\n      <td>front</td>\n      <td>c</td>\n      <td>144 g/km</td>\n      <td>1984 cc</td>\n      <td>73 l</td>\n      <td>...</td>\n      <td>http://www.cars-data.com/en/audi-a6-avant-45-t...</td>\n      <td>1984</td>\n      <td>180.0</td>\n      <td>fuel engine</td>\n      <td>Gasoline</td>\n      <td>Automatic with double clutch</td>\n      <td>NaN</td>\n      <td>2310</td>\n      <td>2924</td>\n      <td>1886</td>\n    </tr>\n  </tbody>\n</table>\n<p>5 rows × 37 columns</p>\n</div>"
     },
     "execution_count": 118,
     "metadata": {},
     "output_type": "execute_result"
    }
   ],
   "source": [
    "df = pd.read_csv('data.csv')\n",
    "df.head()\n"
   ],
   "metadata": {
    "collapsed": false,
    "pycharm": {
     "name": "#%%\n"
    }
   }
  },
  {
   "cell_type": "code",
   "execution_count": 119,
   "outputs": [
    {
     "data": {
      "text/plain": "Index(['accelerationTime', 'bodyType', 'brand', 'cargoVolume', 'curbWeight',\n       'driveWheelConfiguration', 'eLabel', 'emissionsCO2', 'engineCapacity',\n       'fuelCapacity', 'fuelConsumption', 'fuelType', 'height', 'length',\n       'model', 'modelDate', 'name', 'numberOfAxles', 'numberOfDoors',\n       'numberOfForwardGears', 'payload', 'price', 'roofLoad',\n       'seatingCapacity', 'speed', 'torque', 'trailerWeight', 'url',\n       'vEengineDisplacement', 'vEenginePower', 'vEengineType', 'vEfuelType',\n       'vehicleTransmission', 'weight', 'weightTotal', 'wheelbase', 'width'],\n      dtype='object')"
     },
     "execution_count": 119,
     "metadata": {},
     "output_type": "execute_result"
    }
   ],
   "source": [
    "df.columns"
   ],
   "metadata": {
    "collapsed": false,
    "pycharm": {
     "name": "#%%\n"
    }
   }
  },
  {
   "cell_type": "code",
   "execution_count": 120,
   "outputs": [
    {
     "data": {
      "text/plain": "0         6.8\n1         7.8\n2         9.2\n3         9.5\n4         7.0\n         ... \n75990     9.5\n75991    11.1\n75992    10.3\n75993     9.5\n75994    11.1\nName: accelerationTime, Length: 75995, dtype: float64"
     },
     "execution_count": 120,
     "metadata": {},
     "output_type": "execute_result"
    }
   ],
   "source": [
    "# accelerationTime\n",
    "df['accelerationTime'] = list(map(lambda x: x.replace(',', '.'), df['accelerationTime']))\n",
    "df['accelerationTime'] = pd.to_numeric(df['accelerationTime'], errors='coerce')\n",
    "df['accelerationTime']"
   ],
   "metadata": {
    "collapsed": false,
    "pycharm": {
     "name": "#%%\n"
    }
   }
  },
  {
   "cell_type": "code",
   "execution_count": 121,
   "outputs": [
    {
     "data": {
      "text/plain": "0            hatchback\n1        station wagon\n2        station wagon\n3        station wagon\n4        station wagon\n             ...      \n75990            sedan\n75991            sedan\n75992            sedan\n75993            sedan\n75994            sedan\nName: bodyType, Length: 75995, dtype: string"
     },
     "execution_count": 121,
     "metadata": {},
     "output_type": "execute_result"
    }
   ],
   "source": [
    "# bodyType\n",
    "# Take string value after \",\"\n",
    "df['bodyType'] = list(map(lambda x: x.split(',')[1].strip(), df['bodyType']))\n",
    "df['bodyType'] = df['bodyType'].astype('string')\n",
    "df['bodyType']"
   ],
   "metadata": {
    "collapsed": false,
    "pycharm": {
     "name": "#%%\n"
    }
   }
  },
  {
   "cell_type": "code",
   "execution_count": 122,
   "outputs": [
    {
     "data": {
      "text/plain": "0          Audi\n1          Audi\n2         Honda\n3          Audi\n4          Audi\n          ...  \n75990    Subaru\n75991    Subaru\n75992    Subaru\n75993    Subaru\n75994    Subaru\nName: brand, Length: 75995, dtype: string"
     },
     "execution_count": 122,
     "metadata": {},
     "output_type": "execute_result"
    }
   ],
   "source": [
    "# brand\n",
    "df['brand'] = df['brand'].astype('string')\n",
    "df['brand']"
   ],
   "metadata": {
    "collapsed": false,
    "pycharm": {
     "name": "#%%\n"
    }
   }
  },
  {
   "cell_type": "code",
   "execution_count": 123,
   "outputs": [
    {
     "data": {
      "text/plain": "0        1020.0\n1        1680.0\n2        1668.0\n3        1680.0\n4        1680.0\n          ...  \n75990     486.0\n75991     486.0\n75992     486.0\n75993     486.0\n75994     486.0\nName: cargoVolume, Length: 75995, dtype: float64"
     },
     "execution_count": 123,
     "metadata": {},
     "output_type": "execute_result"
    }
   ],
   "source": [
    "# cargoVolume\n",
    "# take maximum value and remove \"not digit\" part\n",
    "df[\"cargoVolume\"] = list(map(lambda x: re.findall('\\\\d+', x)[-1] if len(re.findall('\\\\d+', x)) != 0 else \"\", df[\"cargoVolume\"]))\n",
    "df['cargoVolume'] = pd.to_numeric(df['cargoVolume'], errors='coerce')\n",
    "df['cargoVolume']"
   ],
   "metadata": {
    "collapsed": false,
    "pycharm": {
     "name": "#%%\n"
    }
   }
  },
  {
   "cell_type": "code",
   "execution_count": 124,
   "outputs": [
    {
     "data": {
      "text/plain": "1049"
     },
     "execution_count": 124,
     "metadata": {},
     "output_type": "execute_result"
    }
   ],
   "source": [
    "df['cargoVolume'].isna().sum()\n",
    "# df['cargoVolume']"
   ],
   "metadata": {
    "collapsed": false,
    "pycharm": {
     "name": "#%%\n"
    }
   }
  },
  {
   "cell_type": "code",
   "execution_count": 125,
   "outputs": [
    {
     "data": {
      "text/plain": "0        1375.0\n1        1745.0\n2        1188.0\n3        1685.0\n4        1680.0\n          ...  \n75990    1395.0\n75991    1435.0\n75992    1452.0\n75993    1395.0\n75994    1435.0\nName: curbWeight, Length: 75995, dtype: float64"
     },
     "execution_count": 125,
     "metadata": {},
     "output_type": "execute_result"
    }
   ],
   "source": [
    "# curbWeight\n",
    "# remove \"kg\" part and take number if exists\n",
    "df['curbWeight'] = list(map(lambda x: re.findall('\\\\d+', x)[-1] if len(re.findall('\\\\d+', x)) != 0 else \"\", df['curbWeight']))\n",
    "df['curbWeight'] = pd.to_numeric(df['curbWeight'], errors='coerce')\n",
    "df['curbWeight']"
   ],
   "metadata": {
    "collapsed": false,
    "pycharm": {
     "name": "#%%\n"
    }
   }
  },
  {
   "cell_type": "code",
   "execution_count": 126,
   "outputs": [
    {
     "data": {
      "text/plain": "226"
     },
     "execution_count": 126,
     "metadata": {},
     "output_type": "execute_result"
    }
   ],
   "source": [
    "df['curbWeight'].isna().sum()"
   ],
   "metadata": {
    "collapsed": false,
    "pycharm": {
     "name": "#%%\n"
    }
   }
  },
  {
   "cell_type": "code",
   "execution_count": 127,
   "outputs": [],
   "source": [
    "# driveWheelConfiguration\n",
    "# not null value exists\n"
   ],
   "metadata": {
    "collapsed": false,
    "pycharm": {
     "name": "#%%\n"
    }
   }
  },
  {
   "cell_type": "code",
   "execution_count": 128,
   "outputs": [],
   "source": [
    "# eLabel\n",
    "# have 14154 NA value\n",
    "df['eLabel'] = df['eLabel'].astype('string')"
   ],
   "metadata": {
    "collapsed": false,
    "pycharm": {
     "name": "#%%\n"
    }
   }
  },
  {
   "cell_type": "code",
   "execution_count": 129,
   "outputs": [
    {
     "data": {
      "text/plain": "0        218.0\n1        115.0\n2        146.0\n3        109.0\n4        144.0\n         ...  \n75990    198.0\n75991    185.0\n75992    190.0\n75993    198.0\n75994    185.0\nName: emissionsCO2, Length: 75995, dtype: float64"
     },
     "execution_count": 129,
     "metadata": {},
     "output_type": "execute_result"
    }
   ],
   "source": [
    "# emissionsCO2\n",
    "# remove \"g/km\" part and fill na if exists\n",
    "df['emissionsCO2'] = list(map(lambda x: re.findall('\\\\d+', x)[-1] if len(re.findall('\\\\d+', x)) != 0 else np.nan, df['emissionsCO2']))\n",
    "df['emissionsCO2'] = pd.to_numeric(df['emissionsCO2'], errors='coerce')\n",
    "df['emissionsCO2'] = df['emissionsCO2'].replace(0, np.nan)\n",
    "df['emissionsCO2']"
   ],
   "metadata": {
    "collapsed": false,
    "pycharm": {
     "name": "#%%\n"
    }
   }
  },
  {
   "cell_type": "code",
   "execution_count": 130,
   "outputs": [
    {
     "data": {
      "text/plain": "14290"
     },
     "execution_count": 130,
     "metadata": {},
     "output_type": "execute_result"
    }
   ],
   "source": [
    "df['emissionsCO2'].isna().sum()\n"
   ],
   "metadata": {
    "collapsed": false,
    "pycharm": {
     "name": "#%%\n"
    }
   }
  },
  {
   "cell_type": "code",
   "execution_count": 131,
   "outputs": [
    {
     "data": {
      "text/plain": "0        1781.0\n1        1968.0\n2        1798.0\n3        1968.0\n4        1984.0\n          ...  \n75990    1994.0\n75991    1994.0\n75992    2457.0\n75993    1994.0\n75994    1994.0\nName: engineCapacity, Length: 75995, dtype: float64"
     },
     "execution_count": 131,
     "metadata": {},
     "output_type": "execute_result"
    }
   ],
   "source": [
    "# engineCapacity\n",
    "# take only number\n",
    "df['engineCapacity'] = list(map(lambda x: re.findall('\\\\d+', x)[-1] if len(re.findall('\\\\d+', x)) != 0 else np.nan, df['engineCapacity'].apply(str)))\n",
    "df['engineCapacity'] = pd.to_numeric(df['engineCapacity'], errors='coerce')\n",
    "df['engineCapacity']"
   ],
   "metadata": {
    "collapsed": false,
    "pycharm": {
     "name": "#%%\n"
    }
   }
  },
  {
   "cell_type": "code",
   "execution_count": 132,
   "outputs": [
    {
     "data": {
      "text/plain": "177"
     },
     "execution_count": 132,
     "metadata": {},
     "output_type": "execute_result"
    }
   ],
   "source": [
    "df['engineCapacity'].isna().sum()"
   ],
   "metadata": {
    "collapsed": false,
    "pycharm": {
     "name": "#%%\n"
    }
   }
  },
  {
   "cell_type": "code",
   "execution_count": 133,
   "outputs": [
    {
     "data": {
      "text/plain": "0        55.0\n1        73.0\n2        50.0\n3        73.0\n4        73.0\n         ... \n75990    64.0\n75991    64.0\n75992    64.0\n75993    64.0\n75994    64.0\nName: fuelCapacity, Length: 75995, dtype: float64"
     },
     "execution_count": 133,
     "metadata": {},
     "output_type": "execute_result"
    }
   ],
   "source": [
    "# fuelCapacity\n",
    "# take only number\n",
    "df['fuelCapacity'] = list(map(lambda x: re.findall('\\\\d+', x)[-1] if len(re.findall('\\\\d+', x)) != 0 else np.nan, df['fuelCapacity'].apply(str)))\n",
    "df['fuelCapacity'] = pd.to_numeric(df['fuelCapacity'], errors='coerce')\n",
    "df['fuelCapacity']"
   ],
   "metadata": {
    "collapsed": false,
    "pycharm": {
     "name": "#%%\n"
    }
   }
  },
  {
   "cell_type": "code",
   "execution_count": 134,
   "outputs": [
    {
     "data": {
      "text/plain": "180"
     },
     "execution_count": 134,
     "metadata": {},
     "output_type": "execute_result"
    }
   ],
   "source": [
    "df['fuelCapacity'].isna().sum()\n"
   ],
   "metadata": {
    "collapsed": false,
    "pycharm": {
     "name": "#%%\n"
    }
   }
  },
  {
   "cell_type": "code",
   "execution_count": 135,
   "outputs": [
    {
     "data": {
      "text/plain": "0        9.1\n1        5.9\n2        6.2\n3        5.4\n4        7.4\n        ... \n75990    8.5\n75991    8.0\n75992    8.2\n75993    8.5\n75994    8.0\nName: fuelConsumption, Length: 75995, dtype: float64"
     },
     "execution_count": 135,
     "metadata": {},
     "output_type": "execute_result"
    }
   ],
   "source": [
    "# fuelConsumption\n",
    "df['fuelConsumption'] = list(map(lambda x: x.replace(\"l/100km\", \"\").replace(\",\", \".\"), df['fuelConsumption'].apply(str)))\n",
    "df['fuelConsumption'] = pd.to_numeric(df['fuelConsumption'], errors='coerce')\n",
    "df['fuelConsumption']"
   ],
   "metadata": {
    "collapsed": false,
    "pycharm": {
     "name": "#%%\n"
    }
   }
  },
  {
   "cell_type": "code",
   "execution_count": 136,
   "outputs": [
    {
     "data": {
      "text/plain": "0        9.1\n1        5.9\n2        6.2\n3        5.4\n4        7.4\n        ... \n75990    8.5\n75991    8.0\n75992    8.2\n75993    8.5\n75994    8.0\nName: fuelConsumption, Length: 75995, dtype: float64"
     },
     "execution_count": 136,
     "metadata": {},
     "output_type": "execute_result"
    }
   ],
   "source": [
    "df['fuelConsumption']"
   ],
   "metadata": {
    "collapsed": false,
    "pycharm": {
     "name": "#%%\n"
    }
   }
  },
  {
   "cell_type": "code",
   "execution_count": 137,
   "outputs": [],
   "source": [
    "# fuelType\n",
    "df['fuelType'] = df['fuelType'].astype(\"string\")"
   ],
   "metadata": {
    "collapsed": false,
    "pycharm": {
     "name": "#%%\n"
    }
   }
  },
  {
   "cell_type": "code",
   "execution_count": 138,
   "outputs": [
    {
     "data": {
      "text/plain": "137"
     },
     "execution_count": 138,
     "metadata": {},
     "output_type": "execute_result"
    }
   ],
   "source": [
    "df['fuelType'].isna().sum()"
   ],
   "metadata": {
    "collapsed": false,
    "pycharm": {
     "name": "#%%\n"
    }
   }
  },
  {
   "cell_type": "code",
   "execution_count": 139,
   "outputs": [
    {
     "data": {
      "text/plain": "0        1415.0\n1        1494.0\n2        1480.0\n3        1494.0\n4        1494.0\n          ...  \n75990    1505.0\n75991    1505.0\n75992    1505.0\n75993    1505.0\n75994    1505.0\nName: height, Length: 75995, dtype: float64"
     },
     "execution_count": 139,
     "metadata": {},
     "output_type": "execute_result"
    }
   ],
   "source": [
    "# height\n",
    "df['height'] = list(map(lambda x: re.findall('\\\\d+', x)[-1] if len(re.findall('\\\\d+', x)) != 0 else np.nan, df['height'].apply(str)))\n",
    "df['height'] = pd.to_numeric(df['height'], errors='coerce')\n",
    "df['height']"
   ],
   "metadata": {
    "collapsed": false,
    "pycharm": {
     "name": "#%%\n"
    }
   }
  },
  {
   "cell_type": "code",
   "execution_count": 140,
   "outputs": [
    {
     "data": {
      "text/plain": "70"
     },
     "execution_count": 140,
     "metadata": {},
     "output_type": "execute_result"
    }
   ],
   "source": [
    "df['height'].isna().sum()"
   ],
   "metadata": {
    "collapsed": false,
    "pycharm": {
     "name": "#%%\n"
    }
   }
  },
  {
   "cell_type": "code",
   "execution_count": 141,
   "outputs": [
    {
     "data": {
      "text/plain": "0        4159.0\n1        4939.0\n2        4590.0\n3        4939.0\n4        4939.0\n          ...  \n75990    4730.0\n75991    4730.0\n75992    4730.0\n75993    4730.0\n75994    4730.0\nName: length, Length: 75995, dtype: float64"
     },
     "execution_count": 141,
     "metadata": {},
     "output_type": "execute_result"
    }
   ],
   "source": [
    "# length\n",
    "df['length'] = list(map(lambda x: re.findall('\\\\d+', x)[-1] if len(re.findall('\\\\d+', x)) != 0 else np.nan, df['length'].apply(str)))\n",
    "df['length'] = pd.to_numeric(df['length'], errors='coerce')\n",
    "df['length']"
   ],
   "metadata": {
    "collapsed": false,
    "pycharm": {
     "name": "#%%\n"
    }
   }
  },
  {
   "cell_type": "code",
   "execution_count": 142,
   "outputs": [
    {
     "data": {
      "text/plain": "21"
     },
     "execution_count": 142,
     "metadata": {},
     "output_type": "execute_result"
    }
   ],
   "source": [
    "df['length'].isna().sum()"
   ],
   "metadata": {
    "collapsed": false,
    "pycharm": {
     "name": "#%%\n"
    }
   }
  },
  {
   "cell_type": "code",
   "execution_count": 143,
   "outputs": [
    {
     "data": {
      "text/plain": "0"
     },
     "execution_count": 143,
     "metadata": {},
     "output_type": "execute_result"
    }
   ],
   "source": [
    "# model\n",
    "df['model'].isna().sum()\n"
   ],
   "metadata": {
    "collapsed": false,
    "pycharm": {
     "name": "#%%\n"
    }
   }
  },
  {
   "cell_type": "code",
   "execution_count": 144,
   "outputs": [
    {
     "data": {
      "text/plain": "0        1999\n1        2018\n2        2015\n3        2018\n4        2018\n         ... \n75990    2009\n75991    2009\n75992    2009\n75993    2009\n75994    2009\nName: modelDate, Length: 75995, dtype: Int32"
     },
     "execution_count": 144,
     "metadata": {},
     "output_type": "execute_result"
    }
   ],
   "source": [
    "# modelDate\n",
    "df['modelDate'] = df['modelDate'].astype('Int32')\n",
    "df['modelDate']"
   ],
   "metadata": {
    "collapsed": false,
    "pycharm": {
     "name": "#%%\n"
    }
   }
  },
  {
   "cell_type": "code",
   "execution_count": 145,
   "outputs": [
    {
     "data": {
      "text/plain": "0                     Audi S3 Quattro Manual 3 doors specs\n1        Audi A6 Avant 40 TDI Quattro Pro Line Automati...\n2        Honda Civic Tourer 1.8 Comfort Manual 5 doors ...\n3        Audi A6 Avant 35 TDI Pro Line Automatic 5 door...\n4        Audi A6 Avant 45 TFSI Pro Line Automatic 5 doo...\n                               ...                        \n75990        Subaru Legacy 2.0i Intro Manual 4 doors specs\n75991     Subaru Legacy 2.0i Intro Automatic 4 doors specs\n75992    Subaru Legacy 2.5i Luxury Automatic 4 doors specs\n75993    Subaru Legacy 2.0i Corporate Edition Manual 4 ...\n75994    Subaru Legacy 2.0i Corporate Edition Automatic...\nName: name, Length: 75995, dtype: string"
     },
     "execution_count": 145,
     "metadata": {},
     "output_type": "execute_result"
    }
   ],
   "source": [
    "# name\n",
    "df['name'] = df['name'].astype('string')\n",
    "df['name']\n"
   ],
   "metadata": {
    "collapsed": false,
    "pycharm": {
     "name": "#%%\n"
    }
   }
  },
  {
   "cell_type": "code",
   "execution_count": 146,
   "outputs": [
    {
     "data": {
      "text/plain": "0"
     },
     "execution_count": 146,
     "metadata": {},
     "output_type": "execute_result"
    }
   ],
   "source": [
    "# number of Axles\n",
    "df['numberOfAxles'] = df['numberOfAxles'].astype('Int32')\n",
    "df['numberOfAxles'].isna().sum()"
   ],
   "metadata": {
    "collapsed": false,
    "pycharm": {
     "name": "#%%\n"
    }
   }
  },
  {
   "cell_type": "code",
   "execution_count": 147,
   "outputs": [],
   "source": [
    "# numberOfForwardGears\n",
    "df['numberOfForwardGears'] = df['numberOfForwardGears'].replace('t', np.nan)"
   ],
   "metadata": {
    "collapsed": false,
    "pycharm": {
     "name": "#%%\n"
    }
   }
  },
  {
   "cell_type": "code",
   "execution_count": 148,
   "outputs": [
    {
     "data": {
      "text/plain": "1969"
     },
     "execution_count": 148,
     "metadata": {},
     "output_type": "execute_result"
    }
   ],
   "source": [
    "df['numberOfForwardGears'].isna().sum()"
   ],
   "metadata": {
    "collapsed": false,
    "pycharm": {
     "name": "#%%\n"
    }
   }
  },
  {
   "cell_type": "code",
   "execution_count": 149,
   "outputs": [
    {
     "data": {
      "text/plain": "0        560.0\n1        680.0\n2        602.0\n3        645.0\n4        630.0\n         ...  \n75990    605.0\n75991    585.0\n75992    568.0\n75993    605.0\n75994    585.0\nName: payload, Length: 75995, dtype: float64"
     },
     "execution_count": 149,
     "metadata": {},
     "output_type": "execute_result"
    }
   ],
   "source": [
    "# payload\n",
    "df['payload'] = list(map(lambda x: re.findall('\\\\d+', x)[-1] if len(re.findall('\\\\d+', x)) != 0 else np.nan, df['payload'].apply(str)))\n",
    "df['payload'] = pd.to_numeric(df['payload'], errors='coerce')\n",
    "df['payload']"
   ],
   "metadata": {
    "collapsed": false,
    "pycharm": {
     "name": "#%%\n"
    }
   }
  },
  {
   "cell_type": "code",
   "execution_count": 150,
   "outputs": [
    {
     "data": {
      "text/plain": "1019"
     },
     "execution_count": 150,
     "metadata": {},
     "output_type": "execute_result"
    }
   ],
   "source": [
    "df['payload'].isna().sum()"
   ],
   "metadata": {
    "collapsed": false,
    "pycharm": {
     "name": "#%%\n"
    }
   }
  },
  {
   "cell_type": "code",
   "execution_count": 151,
   "outputs": [
    {
     "data": {
      "text/plain": "0        42.247\n1        68.930\n2        30.580\n3        64.510\n4        69.770\n          ...  \n75990    31.995\n75991    33.995\n75992    39.995\n75993    29.995\n75994    30.995\nName: price, Length: 75995, dtype: float64"
     },
     "execution_count": 151,
     "metadata": {},
     "output_type": "execute_result"
    }
   ],
   "source": [
    "# price\n",
    "df['price'] = list(map(lambda x: re.findall('\\\\d+.*\\\\d*', x)[-1] if len(re.findall('\\\\d+', x)) != 0 else np.nan, df['price'].apply(str)))\n",
    "df['price'] = pd.to_numeric(df['price'], errors='coerce')\n",
    "df['price']"
   ],
   "metadata": {
    "collapsed": false,
    "pycharm": {
     "name": "#%%\n"
    }
   }
  },
  {
   "cell_type": "code",
   "execution_count": 152,
   "outputs": [
    {
     "data": {
      "text/plain": "171"
     },
     "execution_count": 152,
     "metadata": {},
     "output_type": "execute_result"
    }
   ],
   "source": [
    "df['price'] = df['price'].replace(0, np.nan)\n",
    "df['price'].isna().sum()"
   ],
   "metadata": {
    "collapsed": false,
    "pycharm": {
     "name": "#%%\n"
    }
   }
  },
  {
   "cell_type": "code",
   "execution_count": 153,
   "outputs": [
    {
     "data": {
      "text/plain": "0         75.0\n1        100.0\n2         75.0\n3        100.0\n4        100.0\n         ...  \n75990     80.0\n75991     80.0\n75992     80.0\n75993     80.0\n75994     80.0\nName: roofLoad, Length: 75995, dtype: float64"
     },
     "execution_count": 153,
     "metadata": {},
     "output_type": "execute_result"
    }
   ],
   "source": [
    "# roofLoad\n",
    "df['roofLoad'] = list(map(lambda x: re.findall('\\\\d+', x)[-1] if len(re.findall('\\\\d+', x)) != 0 else np.nan, df['roofLoad'].apply(str)))\n",
    "df['roofLoad'] = pd.to_numeric(df['roofLoad'], errors='coerce')\n",
    "df['roofLoad']"
   ],
   "metadata": {
    "collapsed": false,
    "pycharm": {
     "name": "#%%\n"
    }
   }
  },
  {
   "cell_type": "code",
   "execution_count": 154,
   "outputs": [
    {
     "data": {
      "text/plain": "11222"
     },
     "execution_count": 154,
     "metadata": {},
     "output_type": "execute_result"
    }
   ],
   "source": [
    "df['roofLoad'].isna().sum()"
   ],
   "metadata": {
    "collapsed": false,
    "pycharm": {
     "name": "#%%\n"
    }
   }
  },
  {
   "cell_type": "code",
   "execution_count": 155,
   "outputs": [
    {
     "data": {
      "text/plain": "0        5.0\n1        5.0\n2        5.0\n3        5.0\n4        5.0\n        ... \n75990    5.0\n75991    5.0\n75992    5.0\n75993    5.0\n75994    5.0\nName: seatingCapacity, Length: 75995, dtype: float64"
     },
     "execution_count": 155,
     "metadata": {},
     "output_type": "execute_result"
    }
   ],
   "source": [
    "# seating Capacity\n",
    "df['seatingCapacity'] = pd.to_numeric(df['seatingCapacity'], errors='coerce')\n",
    "df['seatingCapacity'] = df['seatingCapacity'].replace(0, np.nan)\n",
    "df['seatingCapacity']"
   ],
   "metadata": {
    "collapsed": false,
    "pycharm": {
     "name": "#%%\n"
    }
   }
  },
  {
   "cell_type": "code",
   "execution_count": 156,
   "outputs": [
    {
     "data": {
      "text/plain": "1969"
     },
     "execution_count": 156,
     "metadata": {},
     "output_type": "execute_result"
    }
   ],
   "source": [
    "df['seatingCapacity'].isna().sum()"
   ],
   "metadata": {
    "collapsed": false,
    "pycharm": {
     "name": "#%%\n"
    }
   }
  },
  {
   "cell_type": "code",
   "execution_count": 157,
   "outputs": [
    {
     "data": {
      "text/plain": "0        238.0\n1        241.0\n2        210.0\n3        219.0\n4        250.0\n         ...  \n75990    210.0\n75991    203.0\n75992    210.0\n75993    210.0\n75994    203.0\nName: speed, Length: 75995, dtype: float64"
     },
     "execution_count": 157,
     "metadata": {},
     "output_type": "execute_result"
    }
   ],
   "source": [
    "# speed\n",
    "df['speed'] = list(map(lambda x: re.findall('\\\\d+', x)[-1] if len(re.findall('\\\\d+', x)) != 0 else np.nan, df['speed'].apply(str)))\n",
    "df['speed'] = pd.to_numeric(df['speed'], errors='coerce')\n",
    "df['speed']"
   ],
   "metadata": {
    "collapsed": false,
    "pycharm": {
     "name": "#%%\n"
    }
   }
  },
  {
   "cell_type": "code",
   "execution_count": 158,
   "outputs": [
    {
     "data": {
      "text/plain": "780"
     },
     "execution_count": 158,
     "metadata": {},
     "output_type": "execute_result"
    }
   ],
   "source": [
    "# speed\n",
    "df['speed'].isna().sum()"
   ],
   "metadata": {
    "collapsed": false,
    "pycharm": {
     "name": "#%%\n"
    }
   }
  },
  {
   "cell_type": "code",
   "execution_count": 159,
   "outputs": [
    {
     "data": {
      "text/plain": "0        270.0\n1        400.0\n2        174.0\n3        370.0\n4        370.0\n         ...  \n75990    196.0\n75991    196.0\n75992    229.0\n75993    196.0\n75994    196.0\nName: torque, Length: 75995, dtype: float64"
     },
     "execution_count": 159,
     "metadata": {},
     "output_type": "execute_result"
    }
   ],
   "source": [
    "# torque\n",
    "df['torque'] = list(map(lambda x: re.findall('\\\\d+', x)[-1] if len(re.findall('\\\\d+', x)) != 0 else np.nan, df['torque'].apply(str)))\n",
    "df['torque'] = pd.to_numeric(df['torque'], errors='coerce')\n",
    "df['torque']\n"
   ],
   "metadata": {
    "collapsed": false,
    "pycharm": {
     "name": "#%%\n"
    }
   }
  },
  {
   "cell_type": "code",
   "execution_count": 160,
   "outputs": [
    {
     "data": {
      "text/plain": "107"
     },
     "execution_count": 160,
     "metadata": {},
     "output_type": "execute_result"
    }
   ],
   "source": [
    "df['torque'].isna().sum()\n"
   ],
   "metadata": {
    "collapsed": false,
    "pycharm": {
     "name": "#%%\n"
    }
   }
  },
  {
   "cell_type": "code",
   "execution_count": 161,
   "outputs": [
    {
     "data": {
      "text/plain": "0        1781.0\n1        1968.0\n2        1798.0\n3        1968.0\n4        1984.0\n          ...  \n75990    1994.0\n75991    1994.0\n75992    2457.0\n75993    1994.0\n75994    1994.0\nName: vEengineDisplacement, Length: 75995, dtype: float64"
     },
     "execution_count": 161,
     "metadata": {},
     "output_type": "execute_result"
    }
   ],
   "source": [
    "# vEengineDisplacement\n",
    "df['vEengineDisplacement'] = list(map(lambda x: re.findall('\\\\d+', x)[-1] if len(re.findall('\\\\d+', x)) != 0 else np.nan, df['vEengineDisplacement'].apply(str)))\n",
    "df['vEengineDisplacement'] = pd.to_numeric(df['vEengineDisplacement'], errors='coerce')\n",
    "df['vEengineDisplacement']"
   ],
   "metadata": {
    "collapsed": false,
    "pycharm": {
     "name": "#%%\n"
    }
   }
  },
  {
   "cell_type": "code",
   "execution_count": 162,
   "outputs": [
    {
     "data": {
      "text/plain": "177"
     },
     "execution_count": 162,
     "metadata": {},
     "output_type": "execute_result"
    }
   ],
   "source": [
    "df['vEengineDisplacement'].isna().sum()"
   ],
   "metadata": {
    "collapsed": false,
    "pycharm": {
     "name": "#%%\n"
    }
   }
  },
  {
   "cell_type": "code",
   "execution_count": 163,
   "outputs": [
    {
     "data": {
      "text/plain": "0        154.0\n1        150.0\n2        104.0\n3        120.0\n4        180.0\n         ...  \n75990    110.0\n75991    110.0\n75992    123.0\n75993    110.0\n75994    110.0\nName: vEenginePower, Length: 75995, dtype: float64"
     },
     "execution_count": 163,
     "metadata": {},
     "output_type": "execute_result"
    }
   ],
   "source": [
    "# vEenginePower\n",
    "df['vEenginePower'] = pd.to_numeric(df['vEenginePower'], errors='coerce')\n",
    "df['vEenginePower']"
   ],
   "metadata": {
    "collapsed": false,
    "pycharm": {
     "name": "#%%\n"
    }
   }
  },
  {
   "cell_type": "code",
   "execution_count": 164,
   "outputs": [
    {
     "data": {
      "text/plain": "49"
     },
     "execution_count": 164,
     "metadata": {},
     "output_type": "execute_result"
    }
   ],
   "source": [
    "df['vEenginePower'].isna().sum()"
   ],
   "metadata": {
    "collapsed": false,
    "pycharm": {
     "name": "#%%\n"
    }
   }
  },
  {
   "cell_type": "code",
   "execution_count": 165,
   "outputs": [
    {
     "data": {
      "text/plain": "0        fuel engine\n1        fuel engine\n2        fuel engine\n3        fuel engine\n4        fuel engine\n            ...     \n75990    fuel engine\n75991    fuel engine\n75992    fuel engine\n75993    fuel engine\n75994    fuel engine\nName: vEengineType, Length: 75995, dtype: string"
     },
     "execution_count": 165,
     "metadata": {},
     "output_type": "execute_result"
    }
   ],
   "source": [
    "# vEengineType\n",
    "df['vEengineType'] = df['vEengineType'].astype(\"string\")\n",
    "df['vEengineType']"
   ],
   "metadata": {
    "collapsed": false,
    "pycharm": {
     "name": "#%%\n"
    }
   }
  },
  {
   "cell_type": "code",
   "execution_count": 166,
   "outputs": [
    {
     "data": {
      "text/plain": "0        Gasoline\n1          Diesel\n2        Gasoline\n3          Diesel\n4        Gasoline\n           ...   \n75990    Gasoline\n75991    Gasoline\n75992    Gasoline\n75993    Gasoline\n75994    Gasoline\nName: vEfuelType, Length: 75995, dtype: string"
     },
     "execution_count": 166,
     "metadata": {},
     "output_type": "execute_result"
    }
   ],
   "source": [
    "# vEfuelType\n",
    "df['vEfuelType'] = df['vEfuelType'].replace(\"\", pd.NA)\n",
    "df['vEfuelType'] = df['vEfuelType'].astype(\"string\")\n",
    "df['vEfuelType']"
   ],
   "metadata": {
    "collapsed": false,
    "pycharm": {
     "name": "#%%\n"
    }
   }
  },
  {
   "cell_type": "code",
   "execution_count": 167,
   "outputs": [
    {
     "data": {
      "text/plain": "0                 Manual transmission\n1        Automatic with double clutch\n2                 Manual transmission\n3        Automatic with double clutch\n4        Automatic with double clutch\n                     ...             \n75990             Manual transmission\n75991              traploze automatic\n75992              traploze automatic\n75993             Manual transmission\n75994              traploze automatic\nName: vehicleTransmission, Length: 75995, dtype: string"
     },
     "execution_count": 167,
     "metadata": {},
     "output_type": "execute_result"
    }
   ],
   "source": [
    "# vehicleTransmission\n",
    "df['vehicleTransmission'] = df['vehicleTransmission'].astype(\"string\")\n",
    "df['vehicleTransmission']"
   ],
   "metadata": {
    "collapsed": false,
    "pycharm": {
     "name": "#%%\n"
    }
   }
  },
  {
   "cell_type": "code",
   "execution_count": 168,
   "outputs": [
    {
     "data": {
      "text/plain": "0        1935.0\n1        2425.0\n2        1790.0\n3        2330.0\n4        2310.0\n          ...  \n75990    2000.0\n75991    2020.0\n75992    2020.0\n75993    2000.0\n75994    2020.0\nName: weightTotal, Length: 75995, dtype: float64"
     },
     "execution_count": 168,
     "metadata": {},
     "output_type": "execute_result"
    }
   ],
   "source": [
    "# weightTotal\n",
    "df['weightTotal'] = list(map(lambda x: re.findall('\\\\d+', x)[-1] if len(re.findall('\\\\d+', x)) != 0 else np.nan, df['weightTotal'].apply(str)))\n",
    "df['weightTotal'] = pd.to_numeric(df['weightTotal'], errors='coerce')\n",
    "df['weightTotal']"
   ],
   "metadata": {
    "collapsed": false,
    "pycharm": {
     "name": "#%%\n"
    }
   }
  },
  {
   "cell_type": "code",
   "execution_count": 169,
   "outputs": [
    {
     "data": {
      "text/plain": "1012"
     },
     "execution_count": 169,
     "metadata": {},
     "output_type": "execute_result"
    }
   ],
   "source": [
    "df['weightTotal'].isna().sum()"
   ],
   "metadata": {
    "collapsed": false,
    "pycharm": {
     "name": "#%%\n"
    }
   }
  },
  {
   "cell_type": "code",
   "execution_count": 170,
   "outputs": [
    {
     "data": {
      "text/plain": "0        2519.0\n1        2924.0\n2        2595.0\n3        2924.0\n4        2924.0\n          ...  \n75990    2750.0\n75991    2750.0\n75992    2750.0\n75993    2750.0\n75994    2750.0\nName: wheelbase, Length: 75995, dtype: float64"
     },
     "execution_count": 170,
     "metadata": {},
     "output_type": "execute_result"
    }
   ],
   "source": [
    "# wheelbase\n",
    "df['wheelbase'] = list(map(lambda x: re.findall('\\\\d+', x)[-1] if len(re.findall('\\\\d+', x)) != 0 else np.nan, df['wheelbase'].apply(str)))\n",
    "df['wheelbase'] = pd.to_numeric(df['wheelbase'], errors='coerce')\n",
    "df['wheelbase']"
   ],
   "metadata": {
    "collapsed": false,
    "pycharm": {
     "name": "#%%\n"
    }
   }
  },
  {
   "cell_type": "code",
   "execution_count": 171,
   "outputs": [
    {
     "data": {
      "text/plain": "0        1763.0\n1        1886.0\n2        1770.0\n3        1886.0\n4        1886.0\n          ...  \n75990    1780.0\n75991    1780.0\n75992    1780.0\n75993    1780.0\n75994    1780.0\nName: width, Length: 75995, dtype: float64"
     },
     "execution_count": 171,
     "metadata": {},
     "output_type": "execute_result"
    }
   ],
   "source": [
    "# width\n",
    "df['width'] = list(map(lambda x: re.findall('\\\\d+', x)[-1] if len(re.findall('\\\\d+', x)) != 0 else np.nan, df['width'].apply(str)))\n",
    "df['width'] = pd.to_numeric(df['width'], errors='coerce')\n",
    "df['width']"
   ],
   "metadata": {
    "collapsed": false,
    "pycharm": {
     "name": "#%%\n"
    }
   }
  },
  {
   "cell_type": "code",
   "execution_count": 172,
   "outputs": [
    {
     "data": {
      "text/plain": "25"
     },
     "execution_count": 172,
     "metadata": {},
     "output_type": "execute_result"
    }
   ],
   "source": [
    "df['width'].isna().sum()"
   ],
   "metadata": {
    "collapsed": false,
    "pycharm": {
     "name": "#%%\n"
    }
   }
  },
  {
   "cell_type": "code",
   "execution_count": 173,
   "outputs": [
    {
     "data": {
      "text/plain": "26"
     },
     "execution_count": 173,
     "metadata": {},
     "output_type": "execute_result"
    }
   ],
   "source": [
    "df['wheelbase'].isna().sum()\n"
   ],
   "metadata": {
    "collapsed": false,
    "pycharm": {
     "name": "#%%\n"
    }
   }
  },
  {
   "cell_type": "code",
   "execution_count": 174,
   "outputs": [],
   "source": [
    "df.to_csv('cars_data_cleaning.csv', index=False)"
   ],
   "metadata": {
    "collapsed": false,
    "pycharm": {
     "name": "#%%\n"
    }
   }
  },
  {
   "cell_type": "code",
   "execution_count": 174,
   "outputs": [],
   "source": [],
   "metadata": {
    "collapsed": false,
    "pycharm": {
     "name": "#%%\n"
    }
   }
  }
 ],
 "metadata": {
  "kernelspec": {
   "display_name": "Python 3",
   "language": "python",
   "name": "python3"
  },
  "language_info": {
   "codemirror_mode": {
    "name": "ipython",
    "version": 2
   },
   "file_extension": ".py",
   "mimetype": "text/x-python",
   "name": "python",
   "nbconvert_exporter": "python",
   "pygments_lexer": "ipython2",
   "version": "2.7.6"
  }
 },
 "nbformat": 4,
 "nbformat_minor": 0
}