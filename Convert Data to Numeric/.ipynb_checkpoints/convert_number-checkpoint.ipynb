{
 "cells": [
  {
   "cell_type": "code",
   "execution_count": 49,
   "metadata": {
    "collapsed": true
   },
   "outputs": [],
   "source": [
    "import pandas as pd\n",
    "import numpy as np\n",
    "import re"
   ]
  },
  {
   "cell_type": "code",
   "execution_count": 50,
   "metadata": {
    "pycharm": {
     "name": "#%%\n"
    }
   },
   "outputs": [
    {
     "data": {
      "text/html": [
       "<div>\n",
       "<style scoped>\n",
       "    .dataframe tbody tr th:only-of-type {\n",
       "        vertical-align: middle;\n",
       "    }\n",
       "\n",
       "    .dataframe tbody tr th {\n",
       "        vertical-align: top;\n",
       "    }\n",
       "\n",
       "    .dataframe thead th {\n",
       "        text-align: right;\n",
       "    }\n",
       "</style>\n",
       "<table border=\"1\" class=\"dataframe\">\n",
       "  <thead>\n",
       "    <tr style=\"text-align: right;\">\n",
       "      <th></th>\n",
       "      <th>accelerationTime</th>\n",
       "      <th>bodyType</th>\n",
       "      <th>brand</th>\n",
       "      <th>cargoVolume</th>\n",
       "      <th>curbWeight</th>\n",
       "      <th>driveWheelConfiguration</th>\n",
       "      <th>eLabel</th>\n",
       "      <th>emissionsCO2</th>\n",
       "      <th>engineCapacity</th>\n",
       "      <th>fuelCapacity</th>\n",
       "      <th>...</th>\n",
       "      <th>url</th>\n",
       "      <th>vEengineDisplacement</th>\n",
       "      <th>vEenginePower</th>\n",
       "      <th>vEengineType</th>\n",
       "      <th>vEfuelType</th>\n",
       "      <th>vehicleTransmission</th>\n",
       "      <th>weight</th>\n",
       "      <th>weightTotal</th>\n",
       "      <th>wheelbase</th>\n",
       "      <th>width</th>\n",
       "    </tr>\n",
       "  </thead>\n",
       "  <tbody>\n",
       "    <tr>\n",
       "      <th>0</th>\n",
       "      <td>6.8</td>\n",
       "      <td>hatchback</td>\n",
       "      <td>Audi</td>\n",
       "      <td>1020.0</td>\n",
       "      <td>1375.0</td>\n",
       "      <td>front+rear</td>\n",
       "      <td>g</td>\n",
       "      <td>218.0</td>\n",
       "      <td>1781.0</td>\n",
       "      <td>55.0</td>\n",
       "      <td>...</td>\n",
       "      <td>http://www.cars-data.com/en/audi-s3-quattro-sp...</td>\n",
       "      <td>1781.0</td>\n",
       "      <td>154.0</td>\n",
       "      <td>fuel engine</td>\n",
       "      <td>Gasoline</td>\n",
       "      <td>Manual transmission</td>\n",
       "      <td>NaN</td>\n",
       "      <td>1935.0</td>\n",
       "      <td>2519.0</td>\n",
       "      <td>1763.0</td>\n",
       "    </tr>\n",
       "    <tr>\n",
       "      <th>1</th>\n",
       "      <td>7.8</td>\n",
       "      <td>station wagon</td>\n",
       "      <td>Audi</td>\n",
       "      <td>1680.0</td>\n",
       "      <td>1745.0</td>\n",
       "      <td>front+rear</td>\n",
       "      <td>c</td>\n",
       "      <td>115.0</td>\n",
       "      <td>1968.0</td>\n",
       "      <td>73.0</td>\n",
       "      <td>...</td>\n",
       "      <td>http://www.cars-data.com/en/audi-a6-avant-40-t...</td>\n",
       "      <td>1968.0</td>\n",
       "      <td>150.0</td>\n",
       "      <td>fuel engine</td>\n",
       "      <td>Diesel</td>\n",
       "      <td>Automatic with double clutch</td>\n",
       "      <td>NaN</td>\n",
       "      <td>2425.0</td>\n",
       "      <td>2924.0</td>\n",
       "      <td>1886.0</td>\n",
       "    </tr>\n",
       "    <tr>\n",
       "      <th>2</th>\n",
       "      <td>9.2</td>\n",
       "      <td>station wagon</td>\n",
       "      <td>Honda</td>\n",
       "      <td>1668.0</td>\n",
       "      <td>1188.0</td>\n",
       "      <td>front</td>\n",
       "      <td>e</td>\n",
       "      <td>146.0</td>\n",
       "      <td>1798.0</td>\n",
       "      <td>50.0</td>\n",
       "      <td>...</td>\n",
       "      <td>http://www.cars-data.com/en/honda-civic-tourer...</td>\n",
       "      <td>1798.0</td>\n",
       "      <td>104.0</td>\n",
       "      <td>fuel engine</td>\n",
       "      <td>Gasoline</td>\n",
       "      <td>Manual transmission</td>\n",
       "      <td>NaN</td>\n",
       "      <td>1790.0</td>\n",
       "      <td>2595.0</td>\n",
       "      <td>1770.0</td>\n",
       "    </tr>\n",
       "    <tr>\n",
       "      <th>3</th>\n",
       "      <td>9.5</td>\n",
       "      <td>station wagon</td>\n",
       "      <td>Audi</td>\n",
       "      <td>1680.0</td>\n",
       "      <td>1685.0</td>\n",
       "      <td>front</td>\n",
       "      <td>b</td>\n",
       "      <td>109.0</td>\n",
       "      <td>1968.0</td>\n",
       "      <td>73.0</td>\n",
       "      <td>...</td>\n",
       "      <td>http://www.cars-data.com/en/audi-a6-avant-35-t...</td>\n",
       "      <td>1968.0</td>\n",
       "      <td>120.0</td>\n",
       "      <td>fuel engine</td>\n",
       "      <td>Diesel</td>\n",
       "      <td>Automatic with double clutch</td>\n",
       "      <td>NaN</td>\n",
       "      <td>2330.0</td>\n",
       "      <td>2924.0</td>\n",
       "      <td>1886.0</td>\n",
       "    </tr>\n",
       "    <tr>\n",
       "      <th>4</th>\n",
       "      <td>7.0</td>\n",
       "      <td>station wagon</td>\n",
       "      <td>Audi</td>\n",
       "      <td>1680.0</td>\n",
       "      <td>1680.0</td>\n",
       "      <td>front</td>\n",
       "      <td>c</td>\n",
       "      <td>144.0</td>\n",
       "      <td>1984.0</td>\n",
       "      <td>73.0</td>\n",
       "      <td>...</td>\n",
       "      <td>http://www.cars-data.com/en/audi-a6-avant-45-t...</td>\n",
       "      <td>1984.0</td>\n",
       "      <td>180.0</td>\n",
       "      <td>fuel engine</td>\n",
       "      <td>Gasoline</td>\n",
       "      <td>Automatic with double clutch</td>\n",
       "      <td>NaN</td>\n",
       "      <td>2310.0</td>\n",
       "      <td>2924.0</td>\n",
       "      <td>1886.0</td>\n",
       "    </tr>\n",
       "  </tbody>\n",
       "</table>\n",
       "<p>5 rows × 37 columns</p>\n",
       "</div>"
      ],
      "text/plain": [
       "   accelerationTime       bodyType  brand  cargoVolume  curbWeight  \\\n",
       "0               6.8      hatchback   Audi       1020.0      1375.0   \n",
       "1               7.8  station wagon   Audi       1680.0      1745.0   \n",
       "2               9.2  station wagon  Honda       1668.0      1188.0   \n",
       "3               9.5  station wagon   Audi       1680.0      1685.0   \n",
       "4               7.0  station wagon   Audi       1680.0      1680.0   \n",
       "\n",
       "  driveWheelConfiguration eLabel  emissionsCO2  engineCapacity  fuelCapacity  \\\n",
       "0              front+rear      g         218.0          1781.0          55.0   \n",
       "1              front+rear      c         115.0          1968.0          73.0   \n",
       "2                   front      e         146.0          1798.0          50.0   \n",
       "3                   front      b         109.0          1968.0          73.0   \n",
       "4                   front      c         144.0          1984.0          73.0   \n",
       "\n",
       "   ...                                                url  \\\n",
       "0  ...  http://www.cars-data.com/en/audi-s3-quattro-sp...   \n",
       "1  ...  http://www.cars-data.com/en/audi-a6-avant-40-t...   \n",
       "2  ...  http://www.cars-data.com/en/honda-civic-tourer...   \n",
       "3  ...  http://www.cars-data.com/en/audi-a6-avant-35-t...   \n",
       "4  ...  http://www.cars-data.com/en/audi-a6-avant-45-t...   \n",
       "\n",
       "  vEengineDisplacement  vEenginePower  vEengineType vEfuelType  \\\n",
       "0               1781.0          154.0   fuel engine   Gasoline   \n",
       "1               1968.0          150.0   fuel engine     Diesel   \n",
       "2               1798.0          104.0   fuel engine   Gasoline   \n",
       "3               1968.0          120.0   fuel engine     Diesel   \n",
       "4               1984.0          180.0   fuel engine   Gasoline   \n",
       "\n",
       "            vehicleTransmission weight  weightTotal  wheelbase   width  \n",
       "0           Manual transmission    NaN       1935.0     2519.0  1763.0  \n",
       "1  Automatic with double clutch    NaN       2425.0     2924.0  1886.0  \n",
       "2           Manual transmission    NaN       1790.0     2595.0  1770.0  \n",
       "3  Automatic with double clutch    NaN       2330.0     2924.0  1886.0  \n",
       "4  Automatic with double clutch    NaN       2310.0     2924.0  1886.0  \n",
       "\n",
       "[5 rows x 37 columns]"
      ]
     },
     "execution_count": 50,
     "metadata": {},
     "output_type": "execute_result"
    }
   ],
   "source": [
    "df = pd.read_csv('cars_data_cleaning.csv')\n",
    "df.head()"
   ]
  },
  {
   "cell_type": "code",
   "execution_count": 51,
   "metadata": {
    "pycharm": {
     "name": "#%%\n"
    }
   },
   "outputs": [
    {
     "data": {
      "text/plain": [
       "0        3\n",
       "1        7\n",
       "2        7\n",
       "3        7\n",
       "4        7\n",
       "        ..\n",
       "75990    6\n",
       "75991    6\n",
       "75992    6\n",
       "75993    6\n",
       "75994    6\n",
       "Name: bodyType, Length: 75995, dtype: int64"
      ]
     },
     "execution_count": 51,
     "metadata": {},
     "output_type": "execute_result"
    }
   ],
   "source": [
    "# bodyType\n",
    "# no null value\n",
    "bodyType_list = df['bodyType'].unique().tolist()\n",
    "bodyType_list.sort()\n",
    "\n",
    "for idx, value in enumerate(bodyType_list):\n",
    "    df['bodyType'] = df['bodyType'].replace(value, idx)\n",
    "\n",
    "df['bodyType']"
   ]
  },
  {
   "cell_type": "code",
   "execution_count": 52,
   "metadata": {
    "pycharm": {
     "name": "#%%\n"
    }
   },
   "outputs": [
    {
     "name": "stdout",
     "output_type": "stream",
     "text": [
      "Number of unique brand :89\n"
     ]
    },
    {
     "data": {
      "text/plain": [
       "0         4\n",
       "1         4\n",
       "2        30\n",
       "3         4\n",
       "4         4\n",
       "         ..\n",
       "75990    78\n",
       "75991    78\n",
       "75992    78\n",
       "75993    78\n",
       "75994    78\n",
       "Name: brand, Length: 75995, dtype: int64"
      ]
     },
     "execution_count": 52,
     "metadata": {},
     "output_type": "execute_result"
    }
   ],
   "source": [
    "# brand\n",
    "# no null value\n",
    "brand_list = df['brand'].unique().tolist()\n",
    "brand_list.sort()\n",
    "print(f'Number of unique brand :{len(brand_list)}')\n",
    "\n",
    "for idx, value in enumerate(brand_list):\n",
    "    df['brand'] = df['brand'].replace(value, idx)\n",
    "\n",
    "df['brand']\n"
   ]
  },
  {
   "cell_type": "code",
   "execution_count": 53,
   "metadata": {
    "pycharm": {
     "name": "#%%\n"
    }
   },
   "outputs": [
    {
     "data": {
      "text/plain": [
       "226"
      ]
     },
     "execution_count": 53,
     "metadata": {},
     "output_type": "execute_result"
    }
   ],
   "source": [
    "# curbWeight\n",
    "# number already\n",
    "df['curbWeight'].isna().sum()"
   ]
  },
  {
   "cell_type": "code",
   "execution_count": 54,
   "metadata": {
    "pycharm": {
     "name": "#%%\n"
    }
   },
   "outputs": [
    {
     "data": {
      "text/plain": [
       "1049"
      ]
     },
     "execution_count": 54,
     "metadata": {},
     "output_type": "execute_result"
    }
   ],
   "source": [
    "# cargoVolume\n",
    "# number already\n",
    "df['cargoVolume'].isna().sum()\n"
   ]
  },
  {
   "cell_type": "code",
   "execution_count": 55,
   "metadata": {
    "pycharm": {
     "name": "#%%\n"
    }
   },
   "outputs": [
    {
     "name": "stdout",
     "output_type": "stream",
     "text": [
      "Number of unique driver config :3\n"
     ]
    },
    {
     "data": {
      "text/plain": [
       "0        1\n",
       "1        1\n",
       "2        0\n",
       "3        0\n",
       "4        0\n",
       "        ..\n",
       "75990    1\n",
       "75991    1\n",
       "75992    1\n",
       "75993    1\n",
       "75994    1\n",
       "Name: driveWheelConfiguration, Length: 75995, dtype: int64"
      ]
     },
     "execution_count": 55,
     "metadata": {},
     "output_type": "execute_result"
    }
   ],
   "source": [
    "# driveWheelConfiguration\n",
    "driver_config_list = df['driveWheelConfiguration'].unique().tolist()\n",
    "driver_config_list.sort()\n",
    "print(f'Number of unique driver config :{len(driver_config_list)}')\n",
    "\n",
    "for idx, value in enumerate(driver_config_list):\n",
    "    df['driveWheelConfiguration'] = df['driveWheelConfiguration'].replace(value, idx)\n",
    "\n",
    "df['driveWheelConfiguration']"
   ]
  },
  {
   "cell_type": "code",
   "execution_count": 56,
   "metadata": {
    "pycharm": {
     "name": "#%%\n"
    }
   },
   "outputs": [
    {
     "name": "stdout",
     "output_type": "stream",
     "text": [
      "Number of unique not null eLabel: 7\n"
     ]
    },
    {
     "data": {
      "text/plain": [
       "0        6.0\n",
       "1        2.0\n",
       "2        4.0\n",
       "3        1.0\n",
       "4        2.0\n",
       "        ... \n",
       "75990    6.0\n",
       "75991    6.0\n",
       "75992    6.0\n",
       "75993    6.0\n",
       "75994    6.0\n",
       "Name: eLabel, Length: 75995, dtype: float64"
      ]
     },
     "execution_count": 56,
     "metadata": {},
     "output_type": "execute_result"
    }
   ],
   "source": [
    "# eLabel\n",
    "# have null value\n",
    "elabel_list = df['eLabel'].dropna().unique().tolist()\n",
    "elabel_list.sort()\n",
    "print(f'Number of unique not null eLabel: {len(elabel_list)}')\n",
    "\n",
    "for idx, value in enumerate(elabel_list):\n",
    "    df['eLabel'] = df['eLabel'].replace(value, idx)\n",
    "\n",
    "df['eLabel'] = df['eLabel'].fillna(value=len(elabel_list))\n",
    "df['eLabel']"
   ]
  },
  {
   "cell_type": "code",
   "execution_count": 57,
   "metadata": {
    "pycharm": {
     "name": "#%%\n"
    }
   },
   "outputs": [
    {
     "data": {
      "text/plain": [
       "0        218.0\n",
       "1        115.0\n",
       "2        146.0\n",
       "3        109.0\n",
       "4        144.0\n",
       "         ...  \n",
       "75990    198.0\n",
       "75991    185.0\n",
       "75992    190.0\n",
       "75993    198.0\n",
       "75994    185.0\n",
       "Name: emissionsCO2, Length: 75995, dtype: float64"
      ]
     },
     "execution_count": 57,
     "metadata": {},
     "output_type": "execute_result"
    }
   ],
   "source": [
    "# emission\n",
    "# have null value\n",
    "# already number\n",
    "df['emissionsCO2']"
   ]
  },
  {
   "cell_type": "code",
   "execution_count": 58,
   "metadata": {
    "pycharm": {
     "name": "#%%\n"
    }
   },
   "outputs": [
    {
     "data": {
      "text/plain": [
       "['Gasoline',\n",
       " 'Diesel',\n",
       " 'LPG / gasoline',\n",
       " 'Natural gas / gasoline',\n",
       " 'Bio ethanol',\n",
       " 'Natural gas',\n",
       " 'LPG',\n",
       " 'Bio ethanol / gasoline',\n",
       " 'Gasoline / bio ethanol']"
      ]
     },
     "execution_count": 58,
     "metadata": {},
     "output_type": "execute_result"
    }
   ],
   "source": [
    "# fuelType\n",
    "fuel_class = df['fuelType'].dropna().unique().tolist()\n",
    "fuel_class"
   ]
  },
  {
   "cell_type": "code",
   "execution_count": 59,
   "metadata": {
    "pycharm": {
     "name": "#%%\n"
    }
   },
   "outputs": [
    {
     "data": {
      "text/plain": [
       "0        0\n",
       "1        1\n",
       "2        0\n",
       "3        1\n",
       "4        0\n",
       "        ..\n",
       "75990    0\n",
       "75991    0\n",
       "75992    0\n",
       "75993    0\n",
       "75994    0\n",
       "Name: fuelType, Length: 75995, dtype: int64"
      ]
     },
     "execution_count": 59,
     "metadata": {},
     "output_type": "execute_result"
    }
   ],
   "source": [
    "# Gasoline / bio ethanol is same as Bio ethanol / gasoline\n",
    "num_class = len(fuel_class) - 1 + 1 # minus 1 trung + 1 null\n",
    "\n",
    "repair = []\n",
    "for value in df['fuelType']:\n",
    "    if value in fuel_class:\n",
    "        if value == \"Bio ethanol / gasoline\" or value == \"Gasoline / bio ethanol\":\n",
    "            repair.append(len(fuel_class) - 2)\n",
    "        else:\n",
    "            repair.append(fuel_class.index(value))\n",
    "    else:\n",
    "        repair.append(len(fuel_class) - 1)\n",
    "# print(repair[:10])\n",
    "# print( df['fuelType'].iloc[:10])\n",
    "df['fuelType'] = repair\n",
    "df['fuelType']"
   ]
  },
  {
   "cell_type": "code",
   "execution_count": 60,
   "metadata": {
    "pycharm": {
     "name": "#%%\n"
    }
   },
   "outputs": [
    {
     "name": "stdout",
     "output_type": "stream",
     "text": [
      "list engineType:  ['electric motor', 'fuel engine', 'hybrid', 'plugin hybrid']\n"
     ]
    },
    {
     "data": {
      "text/plain": [
       "0        1\n",
       "1        1\n",
       "2        1\n",
       "3        1\n",
       "4        1\n",
       "        ..\n",
       "75990    1\n",
       "75991    1\n",
       "75992    1\n",
       "75993    1\n",
       "75994    1\n",
       "Name: vEengineType, Length: 75995, dtype: int64"
      ]
     },
     "execution_count": 60,
     "metadata": {},
     "output_type": "execute_result"
    }
   ],
   "source": [
    "# vEengineType\n",
    "# not null value\n",
    "EngineType_list = df['vEengineType'].unique().tolist()\n",
    "EngineType_list.sort()\n",
    "print('list engineType: ', EngineType_list)\n",
    "\n",
    "for idx, value in enumerate(EngineType_list):\n",
    "    df['vEengineType'] = df['vEengineType'].replace(value, idx)\n",
    "\n",
    "df['vEengineType']"
   ]
  },
  {
   "cell_type": "code",
   "execution_count": 61,
   "metadata": {
    "pycharm": {
     "name": "#%%\n"
    }
   },
   "outputs": [
    {
     "name": "stdout",
     "output_type": "stream",
     "text": [
      "unique list:  ['Bio ethanol', 'Bio ethanol / gasoline', 'Diesel', 'Gasoline', 'Gasoline / bio ethanol', 'LPG', 'LPG / gasoline', 'Natural gas', 'Natural gas / gasoline']\n"
     ]
    },
    {
     "data": {
      "text/plain": [
       "0        3.0\n",
       "1        2.0\n",
       "2        3.0\n",
       "3        2.0\n",
       "4        3.0\n",
       "        ... \n",
       "75990    3.0\n",
       "75991    3.0\n",
       "75992    3.0\n",
       "75993    3.0\n",
       "75994    3.0\n",
       "Name: vEfuelType, Length: 75995, dtype: float64"
      ]
     },
     "execution_count": 61,
     "metadata": {},
     "output_type": "execute_result"
    }
   ],
   "source": [
    "# vEfuelType\n",
    "# have null\n",
    "EfuelType_list = df['vEfuelType'].dropna().unique().tolist()\n",
    "EfuelType_list.sort()\n",
    "print('unique list: ', EfuelType_list)\n",
    "for idx, value in enumerate(EfuelType_list):\n",
    "    df['vEfuelType'] = df['vEfuelType'].replace(value, idx)\n",
    "\n",
    "df['vEfuelType'] = df['vEfuelType'].fillna(value=len(EfuelType_list))\n",
    "\n",
    "df['vEfuelType']"
   ]
  },
  {
   "cell_type": "code",
   "execution_count": 62,
   "metadata": {
    "pycharm": {
     "name": "#%%\n"
    }
   },
   "outputs": [
    {
     "name": "stdout",
     "output_type": "stream",
     "text": [
      "unique list:  ['Automatic', 'Automatic with double clutch', 'Manual transmission', 'Semi-automatic', 'traploze automatic']\n"
     ]
    },
    {
     "data": {
      "text/plain": [
       "0        2\n",
       "1        1\n",
       "2        2\n",
       "3        1\n",
       "4        1\n",
       "        ..\n",
       "75990    2\n",
       "75991    4\n",
       "75992    4\n",
       "75993    2\n",
       "75994    4\n",
       "Name: vehicleTransmission, Length: 75995, dtype: int64"
      ]
     },
     "execution_count": 62,
     "metadata": {},
     "output_type": "execute_result"
    }
   ],
   "source": [
    "# vehicleTransmission\n",
    "# no null value\n",
    "vehicleTrans_list = df['vehicleTransmission'].unique().tolist()\n",
    "vehicleTrans_list.sort()\n",
    "\n",
    "print('unique list: ', vehicleTrans_list)\n",
    "for idx, value in enumerate(vehicleTrans_list):\n",
    "    df['vehicleTransmission'] = df['vehicleTransmission'].replace(value, idx)\n",
    "\n",
    "df['vehicleTransmission']\n"
   ]
  },
  {
   "cell_type": "code",
   "execution_count": 63,
   "metadata": {
    "pycharm": {
     "name": "#%%\n"
    }
   },
   "outputs": [
    {
     "data": {
      "text/plain": [
       "Index(['accelerationTime', 'bodyType', 'brand', 'cargoVolume', 'curbWeight',\n",
       "       'driveWheelConfiguration', 'eLabel', 'emissionsCO2', 'engineCapacity',\n",
       "       'fuelCapacity', 'fuelConsumption', 'fuelType', 'height', 'length',\n",
       "       'modelDate', 'numberOfDoors', 'numberOfForwardGears', 'payload',\n",
       "       'price', 'roofLoad', 'seatingCapacity', 'speed', 'torque',\n",
       "       'vEengineDisplacement', 'vEenginePower', 'vEengineType', 'vEfuelType',\n",
       "       'vehicleTransmission', 'weightTotal', 'wheelbase', 'width'],\n",
       "      dtype='object')"
      ]
     },
     "execution_count": 63,
     "metadata": {},
     "output_type": "execute_result"
    }
   ],
   "source": [
    "df = df.drop(['url', 'weight', 'trailerWeight', 'name', 'model', 'numberOfAxles'], axis=1)\n",
    "df.columns"
   ]
  },
  {
   "cell_type": "code",
   "execution_count": 64,
   "metadata": {
    "pycharm": {
     "name": "#%%\n"
    }
   },
   "outputs": [],
   "source": [
    "df.to_csv('convert_number_data.csv', index=False)\n",
    "\n"
   ]
  },
  {
   "cell_type": "code",
   "execution_count": 64,
   "metadata": {
    "pycharm": {
     "name": "#%%\n"
    }
   },
   "outputs": [],
   "source": []
  }
 ],
 "metadata": {
  "kernelspec": {
   "display_name": "Python 3 (ipykernel)",
   "language": "python",
   "name": "python3"
  },
  "language_info": {
   "codemirror_mode": {
    "name": "ipython",
    "version": 3
   },
   "file_extension": ".py",
   "mimetype": "text/x-python",
   "name": "python",
   "nbconvert_exporter": "python",
   "pygments_lexer": "ipython3",
   "version": "3.8.10"
  }
 },
 "nbformat": 4,
 "nbformat_minor": 1
}
